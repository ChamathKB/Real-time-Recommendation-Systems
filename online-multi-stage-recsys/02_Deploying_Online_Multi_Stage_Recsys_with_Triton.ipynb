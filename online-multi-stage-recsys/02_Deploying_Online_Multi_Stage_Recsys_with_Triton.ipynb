{
  "nbformat": 4,
  "nbformat_minor": 0,
  "metadata": {
    "colab": {
      "provenance": []
    },
    "kernelspec": {
      "name": "python3",
      "display_name": "Python 3"
    },
    "language_info": {
      "name": "python"
    }
  },
  "cells": [
    {
      "cell_type": "code",
      "execution_count": null,
      "metadata": {
        "id": "lp0jbg4yd3-m"
      },
      "outputs": [],
      "source": [
        "import warnings\n",
        "warnings.filterwarnings(\"ignore\")\n",
        "\n",
        "import os\n",
        "import numpy as np\n",
        "import feast\n",
        "import shutil\n",
        "\n",
        "from nvtabular import ColumnSchema, Schema\n",
        "from merlin.systems.dag.ensemble import Ensemble\n",
        "from merlin.systems.dag.ops.session_filter import FilterCandidates\n",
        "from merlin.systems.dag.ops.softmax_sampling import SoftmaxSampling\n",
        "from merlin.systems.dag.ops.tensorflow import PredictTensorflow\n",
        "from merlin.systems.dag.ops.unroll_features import UnrollFeatures\n",
        "from merlin.systems.triton.utils import send_triton_request"
      ]
    },
    {
      "cell_type": "markdown",
      "source": [
        "#### Define output path for data"
      ],
      "metadata": {
        "id": "y9MRxrGyejdO"
      }
    },
    {
      "cell_type": "code",
      "source": [
        "BASE_DIR = \"/workdir\"\n",
        "FEATURE_STORE_DIR = os.path.join(BASE_DIR, \"feature_repo/\")\n",
        "TRITON_MODEL_REPO = os.path.join(BASE_DIR, \"models/\")\n",
        "\n",
        "DATA_DIR = \"/model-data/\"\n",
        "DLRM_DIR = os.path.join(DATA_DIR, \"dlrm\")\n",
        "QUERY_TOWER_DIR = os.path.join(DATA_DIR, \"query_tower\")\n",
        "OUTPUT_DATA_DIR = os.path.join(DATA_DIR, \"processed\")\n",
        "OUTPUT_RETRIEVAL_DATA_DIR = os.path.join(OUTPUT_DATA_DIR, \"retrieval\")"
      ],
      "metadata": {
        "id": "YHGArjEueUVl"
      },
      "execution_count": null,
      "outputs": []
    },
    {
      "cell_type": "markdown",
      "source": [
        "#### Define Triton Ensemble"
      ],
      "metadata": {
        "id": "alY-wB97enO6"
      }
    },
    {
      "cell_type": "code",
      "source": [
        "retrieval_model_path = os.path.join(TRITON_MODEL_REPO, \"1-user-embeddings/1/model.savedmodel/\")\n",
        "ranking_model_path = os.path.join(TRITON_MODEL_REPO, \"5-ranking/1/model.savedmodel/\")\n",
        "\n",
        "# Copy over pretrined Query Tower Model to our Triton Model Repository\n",
        "if not os.path.isdir(retrieval_model_path):\n",
        "    shutil.copytree(QUERY_TOWER_DIR, retrieval_model_path)\n",
        "\n",
        "# Copy over pretrined DLRMfor ranking to our Triton Model Repository\n",
        "if not os.path.isdir(ranking_model_path):\n",
        "    shutil.copytree(DLRM_DIR, ranking_model_path)"
      ],
      "metadata": {
        "id": "zdjsU6fpeXfp"
      },
      "execution_count": null,
      "outputs": []
    },
    {
      "cell_type": "code",
      "source": [
        "retrieval_model_path = os.path.join(TRITON_MODEL_REPO, \"1-user-embeddings/1/model.savedmodel/\")\n",
        "ranking_model_path = os.path.join(TRITON_MODEL_REPO, \"5-ranking/1/model.savedmodel/\")\n",
        "\n",
        "# Copy over pretrined Query Tower Model to our Triton Model Repository\n",
        "if not os.path.isdir(retrieval_model_path):\n",
        "    shutil.copytree(QUERY_TOWER_DIR, retrieval_model_path)\n",
        "\n",
        "# Copy over pretrined DLRMfor ranking to our Triton Model Repository\n",
        "if not os.path.isdir(ranking_model_path):\n",
        "    shutil.copytree(DLRM_DIR, ranking_model_path)"
      ],
      "metadata": {
        "id": "mLUT0Io5ezWg"
      },
      "execution_count": null,
      "outputs": []
    },
    {
      "cell_type": "markdown",
      "source": [
        "#### Start triton server"
      ],
      "metadata": {
        "id": "i5hAW9_ue6lO"
      }
    },
    {
      "cell_type": "code",
      "source": [
        "!tritonserver --model-repository=/workdir/models --backend-config=tensorflow,version=2"
      ],
      "metadata": {
        "id": "woAmoyyEe1hQ"
      },
      "execution_count": null,
      "outputs": []
    },
    {
      "cell_type": "markdown",
      "source": [
        "#### Retrieving Recommendations from Triton"
      ],
      "metadata": {
        "id": "I5TiSlwbfFly"
      }
    },
    {
      "cell_type": "code",
      "source": [
        "!python client.py --user 23"
      ],
      "metadata": {
        "id": "apJ1AB1ZfAN1"
      },
      "execution_count": null,
      "outputs": []
    },
    {
      "cell_type": "code",
      "source": [
        "!perf_analyzer -m ensemble-model -u localhost:8000 --input-data=sample.json --shape=user_id_raw:1,1 -t 2"
      ],
      "metadata": {
        "id": "NvsoeQfVfL0m"
      },
      "execution_count": null,
      "outputs": []
    }
  ]
}