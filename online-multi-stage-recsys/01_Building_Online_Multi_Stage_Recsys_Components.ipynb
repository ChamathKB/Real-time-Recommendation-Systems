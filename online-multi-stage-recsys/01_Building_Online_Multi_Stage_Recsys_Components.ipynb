{
  "nbformat": 4,
  "nbformat_minor": 0,
  "metadata": {
    "colab": {
      "provenance": []
    },
    "kernelspec": {
      "name": "python3",
      "display_name": "Python 3"
    },
    "language_info": {
      "name": "python"
    }
  },
  "cells": [
    {
      "cell_type": "code",
      "execution_count": null,
      "metadata": {
        "id": "FH9jDRhQD3ht"
      },
      "outputs": [],
      "source": [
        "import warnings\n",
        "warnings.filterwarnings(\"ignore\")\n",
        "\n",
        "import os\n",
        "import feast\n",
        "import merlin.models.tf as mm\n",
        "import nvtabular as nvt\n",
        "import numpy as np\n",
        "import tensorflow as tf\n",
        "\n",
        "\n",
        "from merlin.datasets.ecommerce import transform_aliccp\n",
        "from merlin.schema.tags import Tags\n",
        "from merlin.io.dataset import Dataset\n",
        "from nvtabular.ops import *\n",
        "\n",
        "# for running this example on CPU, comment out the line below\n",
        "# os.environ[\"TF_GPU_ALLOCATOR\"] = \"cuda_malloc_async\""
      ]
    },
    {
      "cell_type": "code",
      "source": [
        "DATA_DIR = \"/model-data/aliccp\"\n",
        "BASE_DIR = \"/workdir\""
      ],
      "metadata": {
        "id": "jiHstl3DE1s1"
      },
      "execution_count": null,
      "outputs": []
    },
    {
      "cell_type": "code",
      "source": [
        "feature_repo_path = os.path.join(BASE_DIR, \"feature_repo\")"
      ],
      "metadata": {
        "id": "NdCqSzHSFCsQ"
      },
      "execution_count": null,
      "outputs": []
    },
    {
      "cell_type": "markdown",
      "source": [
        "#### Prepare User and Item features"
      ],
      "metadata": {
        "id": "oGUk_zGSFS6U"
      }
    },
    {
      "cell_type": "code",
      "source": [
        "from merlin.models.utils.dataset import unique_rows_by_features\n",
        "\n",
        "# Load pre-generated User features file\n",
        "user_features = Dataset(os.path.join(DATA_DIR, \"user_features.parquet\")).to_ddf().compute()\n",
        "user_features.head()"
      ],
      "metadata": {
        "id": "FBZDzN8ZFOzH"
      },
      "execution_count": null,
      "outputs": []
    },
    {
      "cell_type": "code",
      "source": [
        "from datetime import datetime\n",
        "\n",
        "user_features[\"datetime\"] = datetime.now()\n",
        "user_features[\"datetime\"] = user_features[\"datetime\"].astype(\"datetime64[ns]\")\n",
        "user_features[\"created\"] = datetime.now()\n",
        "user_features[\"created\"] = user_features[\"created\"].astype(\"datetime64[ns]\")\n",
        "user_features.head()"
      ],
      "metadata": {
        "id": "crXd2UeSFxN1"
      },
      "execution_count": null,
      "outputs": []
    },
    {
      "cell_type": "code",
      "source": [
        "# Write parquet file to feature_repo\n",
        "user_features.to_parquet(\n",
        "    os.path.join(feature_repo_path, \"data\", \"user_features.parquet\")\n",
        ")"
      ],
      "metadata": {
        "id": "m22CfQotF-De"
      },
      "execution_count": null,
      "outputs": []
    },
    {
      "cell_type": "code",
      "source": [
        "# Load pre-generated Item features file\n",
        "item_features = Dataset(os.path.join(DATA_DIR, \"item_features.parquet\")).to_ddf().compute()\n",
        "item_features.head()"
      ],
      "metadata": {
        "id": "xWGdbfPoF6lq"
      },
      "execution_count": null,
      "outputs": []
    },
    {
      "cell_type": "code",
      "source": [
        "item_features[\"datetime\"] = datetime.now()\n",
        "item_features[\"datetime\"] = item_features[\"datetime\"].astype(\"datetime64[ns]\")\n",
        "item_features[\"created\"] = datetime.now()\n",
        "item_features[\"created\"] = item_features[\"created\"].astype(\"datetime64[ns]\")\n",
        "item_features.head()"
      ],
      "metadata": {
        "id": "WiiDCkC1GKR6"
      },
      "execution_count": null,
      "outputs": []
    },
    {
      "cell_type": "code",
      "source": [
        "# Write parquet file to feature_repo\n",
        "item_features.to_parquet(\n",
        "    os.path.join(feature_repo_path, \"data\", \"item_features.parquet\")\n",
        ")"
      ],
      "metadata": {
        "id": "vDA1dVO5GMeK"
      },
      "execution_count": null,
      "outputs": []
    },
    {
      "cell_type": "markdown",
      "source": [
        "#### Register features"
      ],
      "metadata": {
        "id": "jYtVA0xdGXLY"
      }
    },
    {
      "cell_type": "code",
      "source": [
        "%cd $feature_repo_path\n",
        "!feast apply"
      ],
      "metadata": {
        "id": "v9cexzQMGOaF"
      },
      "execution_count": null,
      "outputs": []
    },
    {
      "cell_type": "code",
      "source": [
        "!feast materialize 1995-01-01T01:01:01 2025-01-01T01:01:01"
      ],
      "metadata": {
        "id": "VpiIOAJ3GaxT"
      },
      "execution_count": null,
      "outputs": []
    },
    {
      "cell_type": "code",
      "source": [
        "feature_store = feast.FeatureStore(feature_repo_path)\n",
        "feature_store.get_feature_view(\"user_features\").features"
      ],
      "metadata": {
        "id": "VBqyjP7XGoGx"
      },
      "execution_count": null,
      "outputs": []
    },
    {
      "cell_type": "code",
      "source": [
        "%%timeit\n",
        "feature_store.get_online_features(\n",
        "    features=[\"user_features:user_id\", \"user_features:user_age\"],\n",
        "    entity_rows=[{\"user_id_raw\": 1}]\n",
        ").to_df()\n",
        "\n",
        "# Fast feature retrieval from Redis!"
      ],
      "metadata": {
        "id": "uFJDyOomGo5I"
      },
      "execution_count": null,
      "outputs": []
    },
    {
      "cell_type": "code",
      "source": [
        "import seedir as sd\n",
        "\n",
        "sd.seedir(\n",
        "    feature_repo_path,\n",
        "    style=\"lines\",\n",
        "    itemlimit=10,\n",
        "    depthlimit=3,\n",
        "    exclude_folders=[\".ipynb_checkpoints\", \"__pycache__\"],\n",
        "    sort=True,\n",
        ")"
      ],
      "metadata": {
        "id": "oG55skrvGr3a"
      },
      "execution_count": null,
      "outputs": []
    },
    {
      "cell_type": "markdown",
      "source": [
        "#### Redis ANN Index Setup\n",
        "Load Item Embeddings"
      ],
      "metadata": {
        "id": "m-Tm_ComG1qz"
      }
    },
    {
      "cell_type": "code",
      "source": [
        "item_embeddings = Dataset(os.path.join(DATA_DIR, \"item_embeddings.parquet\")).to_ddf().compute()\n",
        "item_embeddings.head()"
      ],
      "metadata": {
        "id": "prIwVK74Gyxp"
      },
      "execution_count": null,
      "outputs": []
    },
    {
      "cell_type": "code",
      "source": [
        "import asyncio\n",
        "import redis.asyncio as redis\n",
        "from redis.commands.search.query import Query\n",
        "from redis.commands.search.indexDefinition import IndexDefinition, IndexType\n",
        "from redis.commands.search.field import VectorField\n",
        "\n",
        "# Connect to the Redis client\n",
        "host, port = os.environ[\"FEATURE_STORE_ADDRESS\"].split(\":\")\n",
        "redis_conn = redis.Redis(host=host, port=port)"
      ],
      "metadata": {
        "id": "rXgbVB1PG7wO"
      },
      "execution_count": null,
      "outputs": []
    },
    {
      "cell_type": "code",
      "source": [
        "INDEX_NAME = \"candidate_index\"\n",
        "VECTOR_FIELD_NAME = \"item_embedding\"\n",
        "\n",
        "vector_field = VectorField(\n",
        "    VECTOR_FIELD_NAME,\n",
        "    \"HNSW\", {\n",
        "        \"TYPE\": \"FLOAT32\",\n",
        "        \"DIM\": 64,\n",
        "        \"DISTANCE_METRIC\": \"IP\",\n",
        "        \"INITIAL_CAP\": len(item_embeddings),\n",
        "    }\n",
        ")\n",
        "\n",
        "# Create ANN Index\n",
        "await redis_conn.ft(INDEX_NAME).create_index(\n",
        "    fields = [vector_field],\n",
        "    definition= IndexDefinition(prefix=[\"ITEM:\"], index_type=IndexType.HASH)\n",
        ")"
      ],
      "metadata": {
        "id": "4ZxEIO0SG_3k"
      },
      "execution_count": null,
      "outputs": []
    },
    {
      "cell_type": "code",
      "source": [
        "# Function to write item embeddings to Redis\n",
        "async def write_item_embeddings(embs, n: int, redis_conn: redis.Redis):\n",
        "    semaphore = asyncio.Semaphore(n)\n",
        "    async def write(row):\n",
        "        async with semaphore:\n",
        "            item_id = int(row.pop(\"item_id\"))\n",
        "            entry = {\n",
        "                \"item_id\": item_id,\n",
        "                VECTOR_FIELD_NAME: np.array(row.values, dtype=np.float32).tobytes()\n",
        "            }\n",
        "            await redis_conn.hset(f\"ITEM:{item_id}\", mapping=entry)\n",
        "    asyncio.gather(*[write(row[1]) for row in embs.iterrows()])"
      ],
      "metadata": {
        "id": "G4PO77JMHI_Z"
      },
      "execution_count": null,
      "outputs": []
    },
    {
      "cell_type": "code",
      "source": [
        "# Write embeddings to Redis ANN Index created above\n",
        "await write_item_embeddings(item_embeddings, 100, redis_conn)"
      ],
      "metadata": {
        "id": "MEOcLpIbHLhB"
      },
      "execution_count": null,
      "outputs": []
    },
    {
      "cell_type": "code",
      "source": [
        "# Verify Index Construction\n",
        "await redis_conn.ft(INDEX_NAME).info()"
      ],
      "metadata": {
        "id": "WUr1SRNNHOUG"
      },
      "execution_count": null,
      "outputs": []
    },
    {
      "cell_type": "code",
      "source": [
        "# Fetch an Item ID\n",
        "item_ids = [key for key in await redis_conn.keys() if b\"ITEM:\" in key]\n",
        "item_id = item_ids[0]\n",
        "\n",
        "# Fetch a testing input vector\n",
        "test_vector = await redis_conn.hget(item_id.decode(\"utf\"), VECTOR_FIELD_NAME)\n",
        "\n",
        "# Create a Redis VSS Query\n",
        "query = Query(f\"*=>[KNN 10 @{VECTOR_FIELD_NAME} $vec_param AS vector_score]\")\\\n",
        "    .sort_by(\"vector_score\")\\\n",
        "    .return_fields(\"id\", \"vector_score\")\\\n",
        "    .dialect(2)\n",
        "\n",
        "# Search for KNN\n",
        "k_nearest_neighbors = await redis_conn.ft(INDEX_NAME).search(query, query_params={\"vec_param\": test_vector})\n",
        "# Inspect results\n",
        "k_nearest_neighbors.docs"
      ],
      "metadata": {
        "id": "b0tpPJq-HRTC"
      },
      "execution_count": null,
      "outputs": []
    }
  ]
}