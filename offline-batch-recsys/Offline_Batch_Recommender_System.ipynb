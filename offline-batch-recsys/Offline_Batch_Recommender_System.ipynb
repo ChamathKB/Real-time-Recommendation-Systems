{
  "nbformat": 4,
  "nbformat_minor": 0,
  "metadata": {
    "colab": {
      "provenance": []
    },
    "kernelspec": {
      "name": "python3",
      "display_name": "Python 3"
    },
    "language_info": {
      "name": "python"
    }
  },
  "cells": [
    {
      "cell_type": "code",
      "execution_count": 1,
      "metadata": {
        "colab": {
          "base_uri": "https://localhost:8080/"
        },
        "id": "kUEcDg7XlQ7L",
        "outputId": "653d6d3d-433d-44a4-94c9-b3a54ee776d5"
      },
      "outputs": [
        {
          "output_type": "stream",
          "name": "stdout",
          "text": [
            "Looking in indexes: https://pypi.org/simple, https://us-python.pkg.dev/colab-wheels/public/simple/\n",
            "Collecting merlin-core\n",
            "  Downloading merlin-core-23.2.1.tar.gz (122 kB)\n",
            "\u001b[2K     \u001b[90m━━━━━━━━━━━━━━━━━━━━━━━━━━━━━━━━━━━━━━━\u001b[0m \u001b[32m122.0/122.0 kB\u001b[0m \u001b[31m2.5 MB/s\u001b[0m eta \u001b[36m0:00:00\u001b[0m\n",
            "\u001b[?25h  Installing build dependencies ... \u001b[?25l\u001b[?25hdone\n",
            "  Getting requirements to build wheel ... \u001b[?25l\u001b[?25hdone\n",
            "  Preparing metadata (pyproject.toml) ... \u001b[?25l\u001b[?25hdone\n",
            "Requirement already satisfied: tqdm>=4.0 in /usr/local/lib/python3.9/dist-packages (from merlin-core) (4.65.0)\n",
            "Requirement already satisfied: pyarrow>=5.0.0 in /usr/local/lib/python3.9/dist-packages (from merlin-core) (9.0.0)\n",
            "Collecting fsspec==2022.5.0\n",
            "  Downloading fsspec-2022.5.0-py3-none-any.whl (140 kB)\n",
            "\u001b[2K     \u001b[90m━━━━━━━━━━━━━━━━━━━━━━━━━━━━━━━━━━━━━━━\u001b[0m \u001b[32m140.6/140.6 kB\u001b[0m \u001b[31m8.7 MB/s\u001b[0m eta \u001b[36m0:00:00\u001b[0m\n",
            "\u001b[?25hCollecting pynvml<11.5,>=11.0.0\n",
            "  Downloading pynvml-11.4.1-py3-none-any.whl (46 kB)\n",
            "\u001b[2K     \u001b[90m━━━━━━━━━━━━━━━━━━━━━━━━━━━━━━━━━━━━━━━━\u001b[0m \u001b[32m47.0/47.0 kB\u001b[0m \u001b[31m5.3 MB/s\u001b[0m eta \u001b[36m0:00:00\u001b[0m\n",
            "\u001b[?25hRequirement already satisfied: distributed>=2022.3.0 in /usr/local/lib/python3.9/dist-packages (from merlin-core) (2022.12.1)\n",
            "Requirement already satisfied: protobuf>=3.0.0 in /usr/local/lib/python3.9/dist-packages (from merlin-core) (3.20.3)\n",
            "Requirement already satisfied: tensorflow-metadata>=1.2.0 in /usr/local/lib/python3.9/dist-packages (from merlin-core) (1.13.1)\n",
            "Collecting betterproto<2.0.0\n",
            "  Downloading betterproto-1.2.5.tar.gz (26 kB)\n",
            "  Installing build dependencies ... \u001b[?25l\u001b[?25hdone\n",
            "  Getting requirements to build wheel ... \u001b[?25l\u001b[?25hdone\n",
            "  Preparing metadata (pyproject.toml) ... \u001b[?25l\u001b[?25hdone\n",
            "Requirement already satisfied: dask>=2022.3.0 in /usr/local/lib/python3.9/dist-packages (from merlin-core) (2022.12.1)\n",
            "Requirement already satisfied: pandas<1.6.0dev0,>=1.2.0 in /usr/local/lib/python3.9/dist-packages (from merlin-core) (1.5.3)\n",
            "Requirement already satisfied: packaging in /usr/local/lib/python3.9/dist-packages (from merlin-core) (23.1)\n",
            "Requirement already satisfied: numba>=0.54 in /usr/local/lib/python3.9/dist-packages (from merlin-core) (0.56.4)\n",
            "Collecting stringcase\n",
            "  Downloading stringcase-1.2.0.tar.gz (3.0 kB)\n",
            "  Preparing metadata (setup.py) ... \u001b[?25l\u001b[?25hdone\n",
            "Collecting grpclib\n",
            "  Downloading grpclib-0.4.3.tar.gz (62 kB)\n",
            "\u001b[2K     \u001b[90m━━━━━━━━━━━━━━━━━━━━━━━━━━━━━━━━━━━━━━━━\u001b[0m \u001b[32m62.1/62.1 kB\u001b[0m \u001b[31m6.6 MB/s\u001b[0m eta \u001b[36m0:00:00\u001b[0m\n",
            "\u001b[?25h  Installing build dependencies ... \u001b[?25l\u001b[?25hdone\n",
            "  Getting requirements to build wheel ... \u001b[?25l\u001b[?25hdone\n",
            "  Preparing metadata (pyproject.toml) ... \u001b[?25l\u001b[?25hdone\n",
            "Requirement already satisfied: cloudpickle>=1.1.1 in /usr/local/lib/python3.9/dist-packages (from dask>=2022.3.0->merlin-core) (2.2.1)\n",
            "Requirement already satisfied: partd>=0.3.10 in /usr/local/lib/python3.9/dist-packages (from dask>=2022.3.0->merlin-core) (1.4.0)\n",
            "Requirement already satisfied: pyyaml>=5.3.1 in /usr/local/lib/python3.9/dist-packages (from dask>=2022.3.0->merlin-core) (6.0)\n",
            "Requirement already satisfied: toolz>=0.8.2 in /usr/local/lib/python3.9/dist-packages (from dask>=2022.3.0->merlin-core) (0.12.0)\n",
            "Requirement already satisfied: click>=7.0 in /usr/local/lib/python3.9/dist-packages (from dask>=2022.3.0->merlin-core) (8.1.3)\n",
            "Requirement already satisfied: tblib>=1.6.0 in /usr/local/lib/python3.9/dist-packages (from distributed>=2022.3.0->merlin-core) (1.7.0)\n",
            "Requirement already satisfied: urllib3 in /usr/local/lib/python3.9/dist-packages (from distributed>=2022.3.0->merlin-core) (1.26.15)\n",
            "Requirement already satisfied: sortedcontainers!=2.0.0,!=2.0.1 in /usr/local/lib/python3.9/dist-packages (from distributed>=2022.3.0->merlin-core) (2.4.0)\n",
            "Requirement already satisfied: jinja2 in /usr/local/lib/python3.9/dist-packages (from distributed>=2022.3.0->merlin-core) (3.1.2)\n",
            "Requirement already satisfied: msgpack>=0.6.0 in /usr/local/lib/python3.9/dist-packages (from distributed>=2022.3.0->merlin-core) (1.0.5)\n",
            "Requirement already satisfied: psutil>=5.0 in /usr/local/lib/python3.9/dist-packages (from distributed>=2022.3.0->merlin-core) (5.9.5)\n",
            "Requirement already satisfied: tornado>=6.0.3 in /usr/local/lib/python3.9/dist-packages (from distributed>=2022.3.0->merlin-core) (6.2)\n",
            "Requirement already satisfied: locket>=1.0.0 in /usr/local/lib/python3.9/dist-packages (from distributed>=2022.3.0->merlin-core) (1.0.0)\n",
            "Requirement already satisfied: zict>=0.1.3 in /usr/local/lib/python3.9/dist-packages (from distributed>=2022.3.0->merlin-core) (2.2.0)\n",
            "Requirement already satisfied: llvmlite<0.40,>=0.39.0dev0 in /usr/local/lib/python3.9/dist-packages (from numba>=0.54->merlin-core) (0.39.1)\n",
            "Requirement already satisfied: setuptools in /usr/local/lib/python3.9/dist-packages (from numba>=0.54->merlin-core) (67.7.2)\n",
            "Requirement already satisfied: numpy<1.24,>=1.18 in /usr/local/lib/python3.9/dist-packages (from numba>=0.54->merlin-core) (1.22.4)\n",
            "Requirement already satisfied: python-dateutil>=2.8.1 in /usr/local/lib/python3.9/dist-packages (from pandas<1.6.0dev0,>=1.2.0->merlin-core) (2.8.2)\n",
            "Requirement already satisfied: pytz>=2020.1 in /usr/local/lib/python3.9/dist-packages (from pandas<1.6.0dev0,>=1.2.0->merlin-core) (2022.7.1)\n",
            "Requirement already satisfied: absl-py<2.0.0,>=0.9 in /usr/local/lib/python3.9/dist-packages (from tensorflow-metadata>=1.2.0->merlin-core) (1.4.0)\n",
            "Requirement already satisfied: googleapis-common-protos<2,>=1.52.0 in /usr/local/lib/python3.9/dist-packages (from tensorflow-metadata>=1.2.0->merlin-core) (1.59.0)\n",
            "Requirement already satisfied: six>=1.5 in /usr/local/lib/python3.9/dist-packages (from python-dateutil>=2.8.1->pandas<1.6.0dev0,>=1.2.0->merlin-core) (1.16.0)\n",
            "Requirement already satisfied: heapdict in /usr/local/lib/python3.9/dist-packages (from zict>=0.1.3->distributed>=2022.3.0->merlin-core) (1.0.1)\n",
            "Collecting h2<5,>=3.1.0\n",
            "  Downloading h2-4.1.0-py3-none-any.whl (57 kB)\n",
            "\u001b[2K     \u001b[90m━━━━━━━━━━━━━━━━━━━━━━━━━━━━━━━━━━━━━━━━\u001b[0m \u001b[32m57.5/57.5 kB\u001b[0m \u001b[31m6.7 MB/s\u001b[0m eta \u001b[36m0:00:00\u001b[0m\n",
            "\u001b[?25hCollecting multidict\n",
            "  Downloading multidict-6.0.4-cp39-cp39-manylinux_2_17_x86_64.manylinux2014_x86_64.whl (114 kB)\n",
            "\u001b[2K     \u001b[90m━━━━━━━━━━━━━━━━━━━━━━━━━━━━━━━━━━━━━━━\u001b[0m \u001b[32m114.2/114.2 kB\u001b[0m \u001b[31m6.7 MB/s\u001b[0m eta \u001b[36m0:00:00\u001b[0m\n",
            "\u001b[?25hRequirement already satisfied: MarkupSafe>=2.0 in /usr/local/lib/python3.9/dist-packages (from jinja2->distributed>=2022.3.0->merlin-core) (2.1.2)\n",
            "Collecting hyperframe<7,>=6.0\n",
            "  Downloading hyperframe-6.0.1-py3-none-any.whl (12 kB)\n",
            "Collecting hpack<5,>=4.0\n",
            "  Downloading hpack-4.0.0-py3-none-any.whl (32 kB)\n",
            "Building wheels for collected packages: merlin-core, betterproto, grpclib, stringcase\n",
            "  Building wheel for merlin-core (pyproject.toml) ... \u001b[?25l\u001b[?25hdone\n",
            "  Created wheel for merlin-core: filename=merlin_core-23.2.1-py3-none-any.whl size=138544 sha256=cc448368ddba63d844d517d7e460d532c72602c5e09e344ec52e5938c2c6f5ee\n",
            "  Stored in directory: /root/.cache/pip/wheels/39/75/10/af0af70b63bdaeb22de71725b0e172fdc9462ec391729cb9a0\n",
            "  Building wheel for betterproto (pyproject.toml) ... \u001b[?25l\u001b[?25hdone\n",
            "  Created wheel for betterproto: filename=betterproto-1.2.5-py3-none-any.whl size=22012 sha256=1151e1299feb75f6cb608cf2c96ec68be4b0c19d8dd07617d49499142006d01e\n",
            "  Stored in directory: /root/.cache/pip/wheels/7a/8c/a5/7ff29cf885b2c7edef6258a6c3080706a3a7e370af602b42ab\n",
            "  Building wheel for grpclib (pyproject.toml) ... \u001b[?25l\u001b[?25hdone\n",
            "  Created wheel for grpclib: filename=grpclib-0.4.3-py3-none-any.whl size=77078 sha256=f3ad67b87b0a850ad388bb7dbce1848d7c31f8c4474f0314ee47d387f52231d2\n",
            "  Stored in directory: /root/.cache/pip/wheels/5a/a1/de/a8b24573ded6e3c45fd195daf6322d115b2830630b61df7f9f\n",
            "  Building wheel for stringcase (setup.py) ... \u001b[?25l\u001b[?25hdone\n",
            "  Created wheel for stringcase: filename=stringcase-1.2.0-py3-none-any.whl size=3583 sha256=a606f1570c1844c97fc7b7a9bfa8a853d0a53c840147e6a201d636e69f605e1f\n",
            "  Stored in directory: /root/.cache/pip/wheels/0a/0d/86/88baa0554de5fdccfc2b2ee060175eec0a85c12cdfd8fef566\n",
            "Successfully built merlin-core betterproto grpclib stringcase\n",
            "Installing collected packages: stringcase, pynvml, multidict, hyperframe, hpack, fsspec, h2, grpclib, betterproto, merlin-core\n",
            "  Attempting uninstall: fsspec\n",
            "    Found existing installation: fsspec 2023.4.0\n",
            "    Uninstalling fsspec-2023.4.0:\n",
            "      Successfully uninstalled fsspec-2023.4.0\n",
            "Successfully installed betterproto-1.2.5 fsspec-2022.5.0 grpclib-0.4.3 h2-4.1.0 hpack-4.0.0 hyperframe-6.0.1 merlin-core-23.2.1 multidict-6.0.4 pynvml-11.4.1 stringcase-1.2.0\n"
          ]
        }
      ],
      "source": [
        "!pip install merlin-core"
      ]
    },
    {
      "cell_type": "code",
      "source": [
        "!pip install nvtabular"
      ],
      "metadata": {
        "colab": {
          "base_uri": "https://localhost:8080/"
        },
        "id": "N_khVa8pmt0o",
        "outputId": "bac41977-f671-4b74-be07-982cf0bafc69"
      },
      "execution_count": 5,
      "outputs": [
        {
          "output_type": "stream",
          "name": "stdout",
          "text": [
            "Looking in indexes: https://pypi.org/simple, https://us-python.pkg.dev/colab-wheels/public/simple/\n",
            "Collecting nvtabular\n",
            "  Downloading nvtabular-23.2.0-cp39-cp39-manylinux_2_17_x86_64.manylinux2014_x86_64.whl (302 kB)\n",
            "\u001b[2K     \u001b[90m━━━━━━━━━━━━━━━━━━━━━━━━━━━━━━━━━━━━━━━\u001b[0m \u001b[32m302.7/302.7 kB\u001b[0m \u001b[31m6.3 MB/s\u001b[0m eta \u001b[36m0:00:00\u001b[0m\n",
            "\u001b[?25hRequirement already satisfied: merlin-core>=0.2.0 in /usr/local/lib/python3.9/dist-packages (from nvtabular) (23.2.1)\n",
            "Collecting merlin-dataloader>=0.0.2\n",
            "  Downloading merlin-dataloader-23.2.1.tar.gz (49 kB)\n",
            "\u001b[2K     \u001b[90m━━━━━━━━━━━━━━━━━━━━━━━━━━━━━━━━━━━━━━━━\u001b[0m \u001b[32m49.2/49.2 kB\u001b[0m \u001b[31m5.2 MB/s\u001b[0m eta \u001b[36m0:00:00\u001b[0m\n",
            "\u001b[?25h  Installing build dependencies ... \u001b[?25l\u001b[?25hdone\n",
            "  Getting requirements to build wheel ... \u001b[?25l\u001b[?25hdone\n",
            "  Preparing metadata (pyproject.toml) ... \u001b[?25l\u001b[?25hdone\n",
            "Requirement already satisfied: scipy in /usr/local/lib/python3.9/dist-packages (from nvtabular) (1.10.1)\n",
            "Requirement already satisfied: distributed>=2022.3.0 in /usr/local/lib/python3.9/dist-packages (from merlin-core>=0.2.0->nvtabular) (2022.12.1)\n",
            "Requirement already satisfied: numba>=0.54 in /usr/local/lib/python3.9/dist-packages (from merlin-core>=0.2.0->nvtabular) (0.56.4)\n",
            "Requirement already satisfied: tqdm>=4.0 in /usr/local/lib/python3.9/dist-packages (from merlin-core>=0.2.0->nvtabular) (4.65.0)\n",
            "Requirement already satisfied: pyarrow>=5.0.0 in /usr/local/lib/python3.9/dist-packages (from merlin-core>=0.2.0->nvtabular) (9.0.0)\n",
            "Requirement already satisfied: dask>=2022.3.0 in /usr/local/lib/python3.9/dist-packages (from merlin-core>=0.2.0->nvtabular) (2022.12.1)\n",
            "Requirement already satisfied: tensorflow-metadata>=1.2.0 in /usr/local/lib/python3.9/dist-packages (from merlin-core>=0.2.0->nvtabular) (1.13.1)\n",
            "Requirement already satisfied: pandas<1.6.0dev0,>=1.2.0 in /usr/local/lib/python3.9/dist-packages (from merlin-core>=0.2.0->nvtabular) (1.5.3)\n",
            "Requirement already satisfied: packaging in /usr/local/lib/python3.9/dist-packages (from merlin-core>=0.2.0->nvtabular) (23.1)\n",
            "Requirement already satisfied: pynvml<11.5,>=11.0.0 in /usr/local/lib/python3.9/dist-packages (from merlin-core>=0.2.0->nvtabular) (11.4.1)\n",
            "Requirement already satisfied: betterproto<2.0.0 in /usr/local/lib/python3.9/dist-packages (from merlin-core>=0.2.0->nvtabular) (1.2.5)\n",
            "Requirement already satisfied: fsspec==2022.5.0 in /usr/local/lib/python3.9/dist-packages (from merlin-core>=0.2.0->nvtabular) (2022.5.0)\n",
            "Requirement already satisfied: protobuf>=3.0.0 in /usr/local/lib/python3.9/dist-packages (from merlin-core>=0.2.0->nvtabular) (3.20.3)\n",
            "Requirement already satisfied: numpy<1.27.0,>=1.19.5 in /usr/local/lib/python3.9/dist-packages (from scipy->nvtabular) (1.22.4)\n",
            "Requirement already satisfied: grpclib in /usr/local/lib/python3.9/dist-packages (from betterproto<2.0.0->merlin-core>=0.2.0->nvtabular) (0.4.3)\n",
            "Requirement already satisfied: stringcase in /usr/local/lib/python3.9/dist-packages (from betterproto<2.0.0->merlin-core>=0.2.0->nvtabular) (1.2.0)\n",
            "Requirement already satisfied: cloudpickle>=1.1.1 in /usr/local/lib/python3.9/dist-packages (from dask>=2022.3.0->merlin-core>=0.2.0->nvtabular) (2.2.1)\n",
            "Requirement already satisfied: toolz>=0.8.2 in /usr/local/lib/python3.9/dist-packages (from dask>=2022.3.0->merlin-core>=0.2.0->nvtabular) (0.12.0)\n",
            "Requirement already satisfied: pyyaml>=5.3.1 in /usr/local/lib/python3.9/dist-packages (from dask>=2022.3.0->merlin-core>=0.2.0->nvtabular) (6.0)\n",
            "Requirement already satisfied: click>=7.0 in /usr/local/lib/python3.9/dist-packages (from dask>=2022.3.0->merlin-core>=0.2.0->nvtabular) (8.1.3)\n",
            "Requirement already satisfied: partd>=0.3.10 in /usr/local/lib/python3.9/dist-packages (from dask>=2022.3.0->merlin-core>=0.2.0->nvtabular) (1.4.0)\n",
            "Requirement already satisfied: tblib>=1.6.0 in /usr/local/lib/python3.9/dist-packages (from distributed>=2022.3.0->merlin-core>=0.2.0->nvtabular) (1.7.0)\n",
            "Requirement already satisfied: jinja2 in /usr/local/lib/python3.9/dist-packages (from distributed>=2022.3.0->merlin-core>=0.2.0->nvtabular) (3.1.2)\n",
            "Requirement already satisfied: locket>=1.0.0 in /usr/local/lib/python3.9/dist-packages (from distributed>=2022.3.0->merlin-core>=0.2.0->nvtabular) (1.0.0)\n",
            "Requirement already satisfied: urllib3 in /usr/local/lib/python3.9/dist-packages (from distributed>=2022.3.0->merlin-core>=0.2.0->nvtabular) (1.26.15)\n",
            "Requirement already satisfied: sortedcontainers!=2.0.0,!=2.0.1 in /usr/local/lib/python3.9/dist-packages (from distributed>=2022.3.0->merlin-core>=0.2.0->nvtabular) (2.4.0)\n",
            "Requirement already satisfied: tornado>=6.0.3 in /usr/local/lib/python3.9/dist-packages (from distributed>=2022.3.0->merlin-core>=0.2.0->nvtabular) (6.2)\n",
            "Requirement already satisfied: msgpack>=0.6.0 in /usr/local/lib/python3.9/dist-packages (from distributed>=2022.3.0->merlin-core>=0.2.0->nvtabular) (1.0.5)\n",
            "Requirement already satisfied: psutil>=5.0 in /usr/local/lib/python3.9/dist-packages (from distributed>=2022.3.0->merlin-core>=0.2.0->nvtabular) (5.9.5)\n",
            "Requirement already satisfied: zict>=0.1.3 in /usr/local/lib/python3.9/dist-packages (from distributed>=2022.3.0->merlin-core>=0.2.0->nvtabular) (2.2.0)\n",
            "Requirement already satisfied: setuptools in /usr/local/lib/python3.9/dist-packages (from numba>=0.54->merlin-core>=0.2.0->nvtabular) (67.7.2)\n",
            "Requirement already satisfied: llvmlite<0.40,>=0.39.0dev0 in /usr/local/lib/python3.9/dist-packages (from numba>=0.54->merlin-core>=0.2.0->nvtabular) (0.39.1)\n",
            "Requirement already satisfied: python-dateutil>=2.8.1 in /usr/local/lib/python3.9/dist-packages (from pandas<1.6.0dev0,>=1.2.0->merlin-core>=0.2.0->nvtabular) (2.8.2)\n",
            "Requirement already satisfied: pytz>=2020.1 in /usr/local/lib/python3.9/dist-packages (from pandas<1.6.0dev0,>=1.2.0->merlin-core>=0.2.0->nvtabular) (2022.7.1)\n",
            "Requirement already satisfied: googleapis-common-protos<2,>=1.52.0 in /usr/local/lib/python3.9/dist-packages (from tensorflow-metadata>=1.2.0->merlin-core>=0.2.0->nvtabular) (1.59.0)\n",
            "Requirement already satisfied: absl-py<2.0.0,>=0.9 in /usr/local/lib/python3.9/dist-packages (from tensorflow-metadata>=1.2.0->merlin-core>=0.2.0->nvtabular) (1.4.0)\n",
            "Requirement already satisfied: six>=1.5 in /usr/local/lib/python3.9/dist-packages (from python-dateutil>=2.8.1->pandas<1.6.0dev0,>=1.2.0->merlin-core>=0.2.0->nvtabular) (1.16.0)\n",
            "Requirement already satisfied: heapdict in /usr/local/lib/python3.9/dist-packages (from zict>=0.1.3->distributed>=2022.3.0->merlin-core>=0.2.0->nvtabular) (1.0.1)\n",
            "Requirement already satisfied: h2<5,>=3.1.0 in /usr/local/lib/python3.9/dist-packages (from grpclib->betterproto<2.0.0->merlin-core>=0.2.0->nvtabular) (4.1.0)\n",
            "Requirement already satisfied: multidict in /usr/local/lib/python3.9/dist-packages (from grpclib->betterproto<2.0.0->merlin-core>=0.2.0->nvtabular) (6.0.4)\n",
            "Requirement already satisfied: MarkupSafe>=2.0 in /usr/local/lib/python3.9/dist-packages (from jinja2->distributed>=2022.3.0->merlin-core>=0.2.0->nvtabular) (2.1.2)\n",
            "Requirement already satisfied: hpack<5,>=4.0 in /usr/local/lib/python3.9/dist-packages (from h2<5,>=3.1.0->grpclib->betterproto<2.0.0->merlin-core>=0.2.0->nvtabular) (4.0.0)\n",
            "Requirement already satisfied: hyperframe<7,>=6.0 in /usr/local/lib/python3.9/dist-packages (from h2<5,>=3.1.0->grpclib->betterproto<2.0.0->merlin-core>=0.2.0->nvtabular) (6.0.1)\n",
            "Building wheels for collected packages: merlin-dataloader\n",
            "  Building wheel for merlin-dataloader (pyproject.toml) ... \u001b[?25l\u001b[?25hdone\n",
            "  Created wheel for merlin-dataloader: filename=merlin_dataloader-23.2.1-py3-none-any.whl size=40725 sha256=8c1ce6ff66213d14d0e396139c2f781dafee91640123865e26167e3afb9ef805\n",
            "  Stored in directory: /root/.cache/pip/wheels/34/bb/93/d35bf8e031723b123fc587e5b201e769d6398f30f2d746f17c\n",
            "Successfully built merlin-dataloader\n",
            "Installing collected packages: merlin-dataloader, nvtabular\n",
            "Successfully installed merlin-dataloader-23.2.1 nvtabular-23.2.0\n"
          ]
        }
      ]
    },
    {
      "cell_type": "code",
      "source": [
        "!pip install merlin-models"
      ],
      "metadata": {
        "colab": {
          "base_uri": "https://localhost:8080/"
        },
        "id": "msZH9DYPmw1s",
        "outputId": "e85e3de0-672a-4578-ba08-4f2a087bc1a3"
      },
      "execution_count": 6,
      "outputs": [
        {
          "output_type": "stream",
          "name": "stdout",
          "text": [
            "Looking in indexes: https://pypi.org/simple, https://us-python.pkg.dev/colab-wheels/public/simple/\n",
            "Collecting merlin-models\n",
            "  Downloading merlin-models-23.2.0.tar.gz (392 kB)\n",
            "\u001b[2K     \u001b[90m━━━━━━━━━━━━━━━━━━━━━━━━━━━━━━━━━━━━━━━\u001b[0m \u001b[32m392.1/392.1 kB\u001b[0m \u001b[31m7.3 MB/s\u001b[0m eta \u001b[36m0:00:00\u001b[0m\n",
            "\u001b[?25h  Installing build dependencies ... \u001b[?25l\u001b[?25hdone\n",
            "  Getting requirements to build wheel ... \u001b[?25l\u001b[?25hdone\n",
            "  Preparing metadata (pyproject.toml) ... \u001b[?25l\u001b[?25hdone\n",
            "Requirement already satisfied: merlin-dataloader>=0.0.2 in /usr/local/lib/python3.9/dist-packages (from merlin-models) (23.2.1)\n",
            "Requirement already satisfied: merlin-core>=0.2.0 in /usr/local/lib/python3.9/dist-packages (from merlin-models) (23.2.1)\n",
            "Requirement already satisfied: protobuf>=3.0.0 in /usr/local/lib/python3.9/dist-packages (from merlin-core>=0.2.0->merlin-models) (3.20.3)\n",
            "Requirement already satisfied: numba>=0.54 in /usr/local/lib/python3.9/dist-packages (from merlin-core>=0.2.0->merlin-models) (0.56.4)\n",
            "Requirement already satisfied: dask>=2022.3.0 in /usr/local/lib/python3.9/dist-packages (from merlin-core>=0.2.0->merlin-models) (2022.12.1)\n",
            "Requirement already satisfied: distributed>=2022.3.0 in /usr/local/lib/python3.9/dist-packages (from merlin-core>=0.2.0->merlin-models) (2022.12.1)\n",
            "Requirement already satisfied: tqdm>=4.0 in /usr/local/lib/python3.9/dist-packages (from merlin-core>=0.2.0->merlin-models) (4.65.0)\n",
            "Requirement already satisfied: pandas<1.6.0dev0,>=1.2.0 in /usr/local/lib/python3.9/dist-packages (from merlin-core>=0.2.0->merlin-models) (1.5.3)\n",
            "Requirement already satisfied: tensorflow-metadata>=1.2.0 in /usr/local/lib/python3.9/dist-packages (from merlin-core>=0.2.0->merlin-models) (1.13.1)\n",
            "Requirement already satisfied: betterproto<2.0.0 in /usr/local/lib/python3.9/dist-packages (from merlin-core>=0.2.0->merlin-models) (1.2.5)\n",
            "Requirement already satisfied: fsspec==2022.5.0 in /usr/local/lib/python3.9/dist-packages (from merlin-core>=0.2.0->merlin-models) (2022.5.0)\n",
            "Requirement already satisfied: pynvml<11.5,>=11.0.0 in /usr/local/lib/python3.9/dist-packages (from merlin-core>=0.2.0->merlin-models) (11.4.1)\n",
            "Requirement already satisfied: packaging in /usr/local/lib/python3.9/dist-packages (from merlin-core>=0.2.0->merlin-models) (23.1)\n",
            "Requirement already satisfied: pyarrow>=5.0.0 in /usr/local/lib/python3.9/dist-packages (from merlin-core>=0.2.0->merlin-models) (9.0.0)\n",
            "Requirement already satisfied: grpclib in /usr/local/lib/python3.9/dist-packages (from betterproto<2.0.0->merlin-core>=0.2.0->merlin-models) (0.4.3)\n",
            "Requirement already satisfied: stringcase in /usr/local/lib/python3.9/dist-packages (from betterproto<2.0.0->merlin-core>=0.2.0->merlin-models) (1.2.0)\n",
            "Requirement already satisfied: toolz>=0.8.2 in /usr/local/lib/python3.9/dist-packages (from dask>=2022.3.0->merlin-core>=0.2.0->merlin-models) (0.12.0)\n",
            "Requirement already satisfied: click>=7.0 in /usr/local/lib/python3.9/dist-packages (from dask>=2022.3.0->merlin-core>=0.2.0->merlin-models) (8.1.3)\n",
            "Requirement already satisfied: cloudpickle>=1.1.1 in /usr/local/lib/python3.9/dist-packages (from dask>=2022.3.0->merlin-core>=0.2.0->merlin-models) (2.2.1)\n",
            "Requirement already satisfied: pyyaml>=5.3.1 in /usr/local/lib/python3.9/dist-packages (from dask>=2022.3.0->merlin-core>=0.2.0->merlin-models) (6.0)\n",
            "Requirement already satisfied: partd>=0.3.10 in /usr/local/lib/python3.9/dist-packages (from dask>=2022.3.0->merlin-core>=0.2.0->merlin-models) (1.4.0)\n",
            "Requirement already satisfied: msgpack>=0.6.0 in /usr/local/lib/python3.9/dist-packages (from distributed>=2022.3.0->merlin-core>=0.2.0->merlin-models) (1.0.5)\n",
            "Requirement already satisfied: zict>=0.1.3 in /usr/local/lib/python3.9/dist-packages (from distributed>=2022.3.0->merlin-core>=0.2.0->merlin-models) (2.2.0)\n",
            "Requirement already satisfied: tblib>=1.6.0 in /usr/local/lib/python3.9/dist-packages (from distributed>=2022.3.0->merlin-core>=0.2.0->merlin-models) (1.7.0)\n",
            "Requirement already satisfied: urllib3 in /usr/local/lib/python3.9/dist-packages (from distributed>=2022.3.0->merlin-core>=0.2.0->merlin-models) (1.26.15)\n",
            "Requirement already satisfied: locket>=1.0.0 in /usr/local/lib/python3.9/dist-packages (from distributed>=2022.3.0->merlin-core>=0.2.0->merlin-models) (1.0.0)\n",
            "Requirement already satisfied: tornado>=6.0.3 in /usr/local/lib/python3.9/dist-packages (from distributed>=2022.3.0->merlin-core>=0.2.0->merlin-models) (6.2)\n",
            "Requirement already satisfied: sortedcontainers!=2.0.0,!=2.0.1 in /usr/local/lib/python3.9/dist-packages (from distributed>=2022.3.0->merlin-core>=0.2.0->merlin-models) (2.4.0)\n",
            "Requirement already satisfied: psutil>=5.0 in /usr/local/lib/python3.9/dist-packages (from distributed>=2022.3.0->merlin-core>=0.2.0->merlin-models) (5.9.5)\n",
            "Requirement already satisfied: jinja2 in /usr/local/lib/python3.9/dist-packages (from distributed>=2022.3.0->merlin-core>=0.2.0->merlin-models) (3.1.2)\n",
            "Requirement already satisfied: numpy<1.24,>=1.18 in /usr/local/lib/python3.9/dist-packages (from numba>=0.54->merlin-core>=0.2.0->merlin-models) (1.22.4)\n",
            "Requirement already satisfied: setuptools in /usr/local/lib/python3.9/dist-packages (from numba>=0.54->merlin-core>=0.2.0->merlin-models) (67.7.2)\n",
            "Requirement already satisfied: llvmlite<0.40,>=0.39.0dev0 in /usr/local/lib/python3.9/dist-packages (from numba>=0.54->merlin-core>=0.2.0->merlin-models) (0.39.1)\n",
            "Requirement already satisfied: python-dateutil>=2.8.1 in /usr/local/lib/python3.9/dist-packages (from pandas<1.6.0dev0,>=1.2.0->merlin-core>=0.2.0->merlin-models) (2.8.2)\n",
            "Requirement already satisfied: pytz>=2020.1 in /usr/local/lib/python3.9/dist-packages (from pandas<1.6.0dev0,>=1.2.0->merlin-core>=0.2.0->merlin-models) (2022.7.1)\n",
            "Requirement already satisfied: googleapis-common-protos<2,>=1.52.0 in /usr/local/lib/python3.9/dist-packages (from tensorflow-metadata>=1.2.0->merlin-core>=0.2.0->merlin-models) (1.59.0)\n",
            "Requirement already satisfied: absl-py<2.0.0,>=0.9 in /usr/local/lib/python3.9/dist-packages (from tensorflow-metadata>=1.2.0->merlin-core>=0.2.0->merlin-models) (1.4.0)\n",
            "Requirement already satisfied: six>=1.5 in /usr/local/lib/python3.9/dist-packages (from python-dateutil>=2.8.1->pandas<1.6.0dev0,>=1.2.0->merlin-core>=0.2.0->merlin-models) (1.16.0)\n",
            "Requirement already satisfied: heapdict in /usr/local/lib/python3.9/dist-packages (from zict>=0.1.3->distributed>=2022.3.0->merlin-core>=0.2.0->merlin-models) (1.0.1)\n",
            "Requirement already satisfied: multidict in /usr/local/lib/python3.9/dist-packages (from grpclib->betterproto<2.0.0->merlin-core>=0.2.0->merlin-models) (6.0.4)\n",
            "Requirement already satisfied: h2<5,>=3.1.0 in /usr/local/lib/python3.9/dist-packages (from grpclib->betterproto<2.0.0->merlin-core>=0.2.0->merlin-models) (4.1.0)\n",
            "Requirement already satisfied: MarkupSafe>=2.0 in /usr/local/lib/python3.9/dist-packages (from jinja2->distributed>=2022.3.0->merlin-core>=0.2.0->merlin-models) (2.1.2)\n",
            "Requirement already satisfied: hpack<5,>=4.0 in /usr/local/lib/python3.9/dist-packages (from h2<5,>=3.1.0->grpclib->betterproto<2.0.0->merlin-core>=0.2.0->merlin-models) (4.0.0)\n",
            "Requirement already satisfied: hyperframe<7,>=6.0 in /usr/local/lib/python3.9/dist-packages (from h2<5,>=3.1.0->grpclib->betterproto<2.0.0->merlin-core>=0.2.0->merlin-models) (6.0.1)\n",
            "Building wheels for collected packages: merlin-models\n",
            "  Building wheel for merlin-models (pyproject.toml) ... \u001b[?25l\u001b[?25hdone\n",
            "  Created wheel for merlin-models: filename=merlin_models-23.2.0-py3-none-any.whl size=371141 sha256=fce669fc10d21cb3cb4f4eea554cc01a9f2d9bd10ef114593b06c14f2adfeac4\n",
            "  Stored in directory: /root/.cache/pip/wheels/af/60/7f/5dd12f4c95d06237dc60140170042f2cac4972320b2cbdda5a\n",
            "Successfully built merlin-models\n",
            "Installing collected packages: merlin-models\n",
            "Successfully installed merlin-models-23.2.0\n"
          ]
        }
      ]
    },
    {
      "cell_type": "code",
      "source": [
        "!pip install redis==4.4.2"
      ],
      "metadata": {
        "colab": {
          "base_uri": "https://localhost:8080/"
        },
        "id": "OUbickdxlydO",
        "outputId": "29c0dcf2-4862-42cc-8df4-67a5e723ef20"
      },
      "execution_count": 2,
      "outputs": [
        {
          "output_type": "stream",
          "name": "stdout",
          "text": [
            "Looking in indexes: https://pypi.org/simple, https://us-python.pkg.dev/colab-wheels/public/simple/\n",
            "Collecting redis==4.4.2\n",
            "  Downloading redis-4.4.2-py3-none-any.whl (237 kB)\n",
            "\u001b[2K     \u001b[90m━━━━━━━━━━━━━━━━━━━━━━━━━━━━━━━━━━━━━━━\u001b[0m \u001b[32m237.8/237.8 kB\u001b[0m \u001b[31m5.7 MB/s\u001b[0m eta \u001b[36m0:00:00\u001b[0m\n",
            "\u001b[?25hCollecting async-timeout>=4.0.2\n",
            "  Downloading async_timeout-4.0.2-py3-none-any.whl (5.8 kB)\n",
            "Installing collected packages: async-timeout, redis\n",
            "Successfully installed async-timeout-4.0.2 redis-4.4.2\n"
          ]
        }
      ]
    },
    {
      "cell_type": "markdown",
      "source": [
        "### Importing Libraries"
      ],
      "metadata": {
        "id": "fM3gDMTNmU9l"
      }
    },
    {
      "cell_type": "code",
      "source": [
        "import os\n",
        "import logging\n",
        "import time\n",
        "import warnings\n",
        "warnings.filterwarnings('ignore')\n",
        "\n",
        "import nvtabular as nvt\n",
        "import merlin.models.tf as mm\n",
        "import tensorflow as tf\n",
        "\n",
        "from nvtabular.ops import *\n",
        "\n",
        "from merlin.datasets.synthetic import generate_data\n",
        "from merlin.datasets.ecommerce import transform_aliccp\n",
        "from merlin.models.utils.example_utils import workflow_fit_transform\n",
        "from merlin.models.utils.dataset import unique_rows_by_features\n",
        "from merlin.schema.tags import Tags\n",
        "from merlin.io.dataset import Dataset\n",
        "\n",
        "\n",
        "# disable INFO and DEBUG logging everywhere\n",
        "logging.disable(logging.WARNING)"
      ],
      "metadata": {
        "colab": {
          "base_uri": "https://localhost:8080/"
        },
        "id": "7hyDz_92mIyo",
        "outputId": "59cd570d-6dc0-49bb-9ff4-2b0d8f30b63c"
      },
      "execution_count": 7,
      "outputs": [
        {
          "output_type": "stream",
          "name": "stderr",
          "text": [
            "WARNING:tensorflow:Please fix your imports. Module tensorflow.python.training.tracking.data_structures has been moved to tensorflow.python.trackable.data_structures. The old module will be deleted in version 2.11.\n"
          ]
        }
      ]
    },
    {
      "cell_type": "markdown",
      "source": [
        "### Generate and Process Synthetic Ali-CCP Dataset"
      ],
      "metadata": {
        "id": "QJMlGR2bmN7u"
      }
    },
    {
      "cell_type": "code",
      "source": [
        "# Generate the synthetic data\n",
        "NUM_ROWS = 1000000\n",
        "TRAIN_SIZE = 0.7\n",
        "VALID_SIZE = 0.3\n",
        "\n",
        "train, valid = generate_data(\"aliccp-raw\", NUM_ROWS, set_sizes=(TRAIN_SIZE, VALID_SIZE))"
      ],
      "metadata": {
        "id": "N4n2TjWznP7S"
      },
      "execution_count": 8,
      "outputs": []
    },
    {
      "cell_type": "code",
      "source": [
        "# Define output path for data\n",
        "DATA_DIR = \"/model-data/aliccp\"\n",
        "OUTPUT_DATA_DIR = os.path.join(DATA_DIR, \"processed\")\n",
        "OUTPUT_RETRIEVAL_DATA_DIR = os.path.join(OUTPUT_DATA_DIR, \"retrieval\")\n",
        "CATEGORY_TEMP_DIR = os.path.join(DATA_DIR, \"categories\")"
      ],
      "metadata": {
        "id": "ZfWAV7IBnVSy"
      },
      "execution_count": 9,
      "outputs": []
    },
    {
      "cell_type": "code",
      "source": [
        "# Define NVTabular Feature Transformation Pipeline\n",
        "\n",
        "user_id_raw = [\"user_id\"] >> Rename(postfix='_raw') >> LambdaOp(lambda col: col.astype(\"int32\")) >> TagAsUserFeatures()\n",
        "item_id_raw = [\"item_id\"] >> Rename(postfix='_raw') >> LambdaOp(lambda col: col.astype(\"int32\")) >> TagAsItemFeatures()\n",
        "\n",
        "user_id = [\"user_id\"] >> Categorify(dtype=\"int32\", out_path=CATEGORY_TEMP_DIR) >> TagAsUserID()\n",
        "item_id = [\"item_id\"] >> Categorify(dtype=\"int32\", out_path=CATEGORY_TEMP_DIR) >> TagAsItemID()\n",
        "\n",
        "item_features = (\n",
        "    [\"item_category\", \"item_shop\", \"item_brand\"] >> Categorify(dtype=\"int32\", out_path=CATEGORY_TEMP_DIR) >> TagAsItemFeatures()\n",
        ")\n",
        "\n",
        "user_features = (\n",
        "    [\n",
        "        \"user_shops\",\n",
        "        \"user_profile\",\n",
        "        \"user_group\",\n",
        "        \"user_gender\",\n",
        "        \"user_age\",\n",
        "        \"user_consumption_2\",\n",
        "        \"user_is_occupied\",\n",
        "        \"user_geography\",\n",
        "        \"user_intentions\",\n",
        "        \"user_brands\",\n",
        "        \"user_categories\",\n",
        "    ]\n",
        "    >> Categorify(dtype=\"int32\", out_path=CATEGORY_TEMP_DIR)\n",
        "    >> TagAsUserFeatures()\n",
        ")\n",
        "\n",
        "targets = [\"click\"] >> AddMetadata(tags=[Tags.BINARY_CLASSIFICATION, \"target\"])\n",
        "\n",
        "outputs = user_id + item_id + item_features + user_features +  user_id_raw + item_id_raw + targets\n",
        "\n",
        "# add dropna op to filter rows with nulls\n",
        "outputs = outputs >> Dropna()"
      ],
      "metadata": {
        "id": "Xrzax57rnZhR"
      },
      "execution_count": 10,
      "outputs": []
    },
    {
      "cell_type": "code",
      "source": [
        "# Transform data and create files\n",
        "transform_aliccp((train, valid), OUTPUT_DATA_DIR, nvt_workflow=outputs)"
      ],
      "metadata": {
        "id": "qEb7pjLhnmE8"
      },
      "execution_count": 11,
      "outputs": []
    },
    {
      "cell_type": "markdown",
      "source": [
        "### Feature Engineering for Candidate Retrieval"
      ],
      "metadata": {
        "id": "YOO2GbUhpyOo"
      }
    },
    {
      "cell_type": "code",
      "source": [
        "# Load Datasets from generated files\n",
        "train_retrieval = Dataset(os.path.join(OUTPUT_DATA_DIR, \"train\", \"*.parquet\"))\n",
        "valid_retrieval = Dataset(os.path.join(OUTPUT_DATA_DIR, \"valid\", \"*.parquet\"))"
      ],
      "metadata": {
        "id": "y0tmNfRLnqob"
      },
      "execution_count": 12,
      "outputs": []
    },
    {
      "cell_type": "code",
      "source": [
        "# Define NVTabular Feature Transformation Pipeline\n",
        "\n",
        "inputs = train_retrieval.schema.column_names\n",
        "\n",
        "# Select only positive interaction rows where click==1 in the dataset with Filter() operator\n",
        "outputs = inputs >> Filter(f=lambda df: df[\"click\"] == 1)\n",
        "\n",
        "# Execute the transformation workflow for both datasets\n",
        "workflow = nvt.Workflow(outputs)\n",
        "workflow.fit(train_retrieval)\n",
        "workflow.transform(train_retrieval).to_parquet(\n",
        "    output_path=os.path.join(OUTPUT_RETRIEVAL_DATA_DIR, \"train\")\n",
        ")\n",
        "workflow.transform(valid_retrieval).to_parquet(\n",
        "    output_path=os.path.join(OUTPUT_RETRIEVAL_DATA_DIR, \"valid\")\n",
        ")"
      ],
      "metadata": {
        "id": "03SUPl-lp4TY"
      },
      "execution_count": 13,
      "outputs": []
    },
    {
      "cell_type": "code",
      "source": [
        "# Read transformed parquet files as Dataset objects\n",
        "train_retrieval = Dataset(os.path.join(OUTPUT_RETRIEVAL_DATA_DIR, \"train\", \"*.parquet\"), part_size=\"500MB\")\n",
        "valid_retrieval = Dataset(os.path.join(OUTPUT_RETRIEVAL_DATA_DIR, \"valid\", \"*.parquet\"), part_size=\"500MB\")"
      ],
      "metadata": {
        "id": "CgJKWgPsqGp0"
      },
      "execution_count": 14,
      "outputs": []
    },
    {
      "cell_type": "code",
      "source": [
        "# Create model input schema\n",
        "schema = train_retrieval.schema.select_by_tag([Tags.ITEM_ID, Tags.USER_ID, Tags.ITEM, Tags.USER]).without(['user_id_raw', 'item_id_raw', 'click'])\n",
        "train_retrieval.schema = schema\n",
        "valid_retrieval.schema = schema"
      ],
      "metadata": {
        "id": "I8yabdR_qLrr"
      },
      "execution_count": 15,
      "outputs": []
    },
    {
      "cell_type": "code",
      "source": [
        "schema"
      ],
      "metadata": {
        "colab": {
          "base_uri": "https://localhost:8080/",
          "height": 1000
        },
        "id": "wTB-5h0WqSqT",
        "outputId": "031a724d-c14e-4651-a474-c5c8b8118b7e"
      },
      "execution_count": 16,
      "outputs": [
        {
          "output_type": "execute_result",
          "data": {
            "text/plain": [
              "[{'name': 'user_id', 'tags': {<Tags.CATEGORICAL: 'categorical'>, <Tags.ID: 'id'>, <Tags.USER_ID: 'user_id'>, <Tags.USER: 'user'>}, 'properties': {'embedding_sizes': {'cardinality': 780.0, 'dimension': 67.0}, 'num_buckets': None, 'freq_threshold': 0.0, 'start_index': 0.0, 'max_size': 0.0, 'cat_path': '/model-data/aliccp/categories/categories/unique.user_id.parquet', 'domain': {'min': 0, 'max': 779, 'name': 'user_id'}}, 'dtype': DType(name='int32', element_type=<ElementType.Int: 'int'>, element_size=32, element_unit=None, signed=True, shape=Shape(dims=None)), 'is_list': False, 'is_ragged': False}, {'name': 'item_id', 'tags': {<Tags.ITEM_ID: 'item_id'>, <Tags.CATEGORICAL: 'categorical'>, <Tags.ID: 'id'>, <Tags.ITEM: 'item'>}, 'properties': {'embedding_sizes': {'cardinality': 756.0, 'dimension': 65.0}, 'start_index': 0.0, 'freq_threshold': 0.0, 'num_buckets': None, 'max_size': 0.0, 'cat_path': '/model-data/aliccp/categories/categories/unique.item_id.parquet', 'domain': {'min': 0, 'max': 755, 'name': 'item_id'}}, 'dtype': DType(name='int32', element_type=<ElementType.Int: 'int'>, element_size=32, element_unit=None, signed=True, shape=Shape(dims=None)), 'is_list': False, 'is_ragged': False}, {'name': 'item_category', 'tags': {<Tags.ITEM: 'item'>, <Tags.CATEGORICAL: 'categorical'>}, 'properties': {'num_buckets': None, 'freq_threshold': 0.0, 'embedding_sizes': {'dimension': 65.0, 'cardinality': 756.0}, 'start_index': 0.0, 'cat_path': '/model-data/aliccp/categories/categories/unique.item_category.parquet', 'max_size': 0.0, 'domain': {'min': 0, 'max': 755, 'name': 'item_category'}}, 'dtype': DType(name='int32', element_type=<ElementType.Int: 'int'>, element_size=32, element_unit=None, signed=True, shape=Shape(dims=None)), 'is_list': False, 'is_ragged': False}, {'name': 'item_shop', 'tags': {<Tags.ITEM: 'item'>, <Tags.CATEGORICAL: 'categorical'>}, 'properties': {'embedding_sizes': {'cardinality': 756.0, 'dimension': 65.0}, 'max_size': 0.0, 'num_buckets': None, 'freq_threshold': 0.0, 'cat_path': '/model-data/aliccp/categories/categories/unique.item_shop.parquet', 'start_index': 0.0, 'domain': {'min': 0, 'max': 755, 'name': 'item_shop'}}, 'dtype': DType(name='int32', element_type=<ElementType.Int: 'int'>, element_size=32, element_unit=None, signed=True, shape=Shape(dims=None)), 'is_list': False, 'is_ragged': False}, {'name': 'item_brand', 'tags': {<Tags.ITEM: 'item'>, <Tags.CATEGORICAL: 'categorical'>}, 'properties': {'embedding_sizes': {'cardinality': 756.0, 'dimension': 65.0}, 'cat_path': '/model-data/aliccp/categories/categories/unique.item_brand.parquet', 'freq_threshold': 0.0, 'start_index': 0.0, 'max_size': 0.0, 'num_buckets': None, 'domain': {'min': 0, 'max': 755, 'name': 'item_brand'}}, 'dtype': DType(name='int32', element_type=<ElementType.Int: 'int'>, element_size=32, element_unit=None, signed=True, shape=Shape(dims=None)), 'is_list': False, 'is_ragged': False}, {'name': 'user_shops', 'tags': {<Tags.CATEGORICAL: 'categorical'>, <Tags.USER: 'user'>}, 'properties': {'freq_threshold': 0.0, 'cat_path': '/model-data/aliccp/categories/categories/unique.user_shops.parquet', 'max_size': 0.0, 'start_index': 0.0, 'embedding_sizes': {'dimension': 67.0, 'cardinality': 780.0}, 'num_buckets': None, 'domain': {'min': 0, 'max': 779, 'name': 'user_shops'}}, 'dtype': DType(name='int32', element_type=<ElementType.Int: 'int'>, element_size=32, element_unit=None, signed=True, shape=Shape(dims=None)), 'is_list': False, 'is_ragged': False}, {'name': 'user_profile', 'tags': {<Tags.CATEGORICAL: 'categorical'>, <Tags.USER: 'user'>}, 'properties': {'embedding_sizes': {'cardinality': 47.0, 'dimension': 16.0}, 'cat_path': '/model-data/aliccp/categories/categories/unique.user_profile.parquet', 'num_buckets': None, 'start_index': 0.0, 'max_size': 0.0, 'freq_threshold': 0.0, 'domain': {'min': 0, 'max': 46, 'name': 'user_profile'}}, 'dtype': DType(name='int32', element_type=<ElementType.Int: 'int'>, element_size=32, element_unit=None, signed=True, shape=Shape(dims=None)), 'is_list': False, 'is_ragged': False}, {'name': 'user_group', 'tags': {<Tags.CATEGORICAL: 'categorical'>, <Tags.USER: 'user'>}, 'properties': {'start_index': 0.0, 'cat_path': '/model-data/aliccp/categories/categories/unique.user_group.parquet', 'embedding_sizes': {'cardinality': 11.0, 'dimension': 16.0}, 'max_size': 0.0, 'num_buckets': None, 'freq_threshold': 0.0, 'domain': {'min': 0, 'max': 10, 'name': 'user_group'}}, 'dtype': DType(name='int32', element_type=<ElementType.Int: 'int'>, element_size=32, element_unit=None, signed=True, shape=Shape(dims=None)), 'is_list': False, 'is_ragged': False}, {'name': 'user_gender', 'tags': {<Tags.CATEGORICAL: 'categorical'>, <Tags.USER: 'user'>}, 'properties': {'cat_path': '/model-data/aliccp/categories/categories/unique.user_gender.parquet', 'embedding_sizes': {'cardinality': 3.0, 'dimension': 16.0}, 'num_buckets': None, 'start_index': 0.0, 'max_size': 0.0, 'freq_threshold': 0.0, 'domain': {'min': 0, 'max': 2, 'name': 'user_gender'}}, 'dtype': DType(name='int32', element_type=<ElementType.Int: 'int'>, element_size=32, element_unit=None, signed=True, shape=Shape(dims=None)), 'is_list': False, 'is_ragged': False}, {'name': 'user_age', 'tags': {<Tags.CATEGORICAL: 'categorical'>, <Tags.USER: 'user'>}, 'properties': {'max_size': 0.0, 'freq_threshold': 0.0, 'cat_path': '/model-data/aliccp/categories/categories/unique.user_age.parquet', 'start_index': 0.0, 'embedding_sizes': {'cardinality': 7.0, 'dimension': 16.0}, 'num_buckets': None, 'domain': {'min': 0, 'max': 6, 'name': 'user_age'}}, 'dtype': DType(name='int32', element_type=<ElementType.Int: 'int'>, element_size=32, element_unit=None, signed=True, shape=Shape(dims=None)), 'is_list': False, 'is_ragged': False}, {'name': 'user_consumption_2', 'tags': {<Tags.CATEGORICAL: 'categorical'>, <Tags.USER: 'user'>}, 'properties': {'max_size': 0.0, 'embedding_sizes': {'dimension': 16.0, 'cardinality': 4.0}, 'num_buckets': None, 'start_index': 0.0, 'cat_path': '/model-data/aliccp/categories/categories/unique.user_consumption_2.parquet', 'freq_threshold': 0.0, 'domain': {'min': 0, 'max': 3, 'name': 'user_consumption_2'}}, 'dtype': DType(name='int32', element_type=<ElementType.Int: 'int'>, element_size=32, element_unit=None, signed=True, shape=Shape(dims=None)), 'is_list': False, 'is_ragged': False}, {'name': 'user_is_occupied', 'tags': {<Tags.CATEGORICAL: 'categorical'>, <Tags.USER: 'user'>}, 'properties': {'num_buckets': None, 'start_index': 0.0, 'embedding_sizes': {'cardinality': 3.0, 'dimension': 16.0}, 'freq_threshold': 0.0, 'cat_path': '/model-data/aliccp/categories/categories/unique.user_is_occupied.parquet', 'max_size': 0.0, 'domain': {'min': 0, 'max': 2, 'name': 'user_is_occupied'}}, 'dtype': DType(name='int32', element_type=<ElementType.Int: 'int'>, element_size=32, element_unit=None, signed=True, shape=Shape(dims=None)), 'is_list': False, 'is_ragged': False}, {'name': 'user_geography', 'tags': {<Tags.CATEGORICAL: 'categorical'>, <Tags.USER: 'user'>}, 'properties': {'cat_path': '/model-data/aliccp/categories/categories/unique.user_geography.parquet', 'embedding_sizes': {'dimension': 16.0, 'cardinality': 5.0}, 'freq_threshold': 0.0, 'num_buckets': None, 'start_index': 0.0, 'max_size': 0.0, 'domain': {'min': 0, 'max': 4, 'name': 'user_geography'}}, 'dtype': DType(name='int32', element_type=<ElementType.Int: 'int'>, element_size=32, element_unit=None, signed=True, shape=Shape(dims=None)), 'is_list': False, 'is_ragged': False}, {'name': 'user_intentions', 'tags': {<Tags.CATEGORICAL: 'categorical'>, <Tags.USER: 'user'>}, 'properties': {'start_index': 0.0, 'max_size': 0.0, 'cat_path': '/model-data/aliccp/categories/categories/unique.user_intentions.parquet', 'embedding_sizes': {'cardinality': 780.0, 'dimension': 67.0}, 'num_buckets': None, 'freq_threshold': 0.0, 'domain': {'min': 0, 'max': 779, 'name': 'user_intentions'}}, 'dtype': DType(name='int32', element_type=<ElementType.Int: 'int'>, element_size=32, element_unit=None, signed=True, shape=Shape(dims=None)), 'is_list': False, 'is_ragged': False}, {'name': 'user_brands', 'tags': {<Tags.CATEGORICAL: 'categorical'>, <Tags.USER: 'user'>}, 'properties': {'freq_threshold': 0.0, 'num_buckets': None, 'cat_path': '/model-data/aliccp/categories/categories/unique.user_brands.parquet', 'embedding_sizes': {'cardinality': 780.0, 'dimension': 67.0}, 'start_index': 0.0, 'max_size': 0.0, 'domain': {'min': 0, 'max': 779, 'name': 'user_brands'}}, 'dtype': DType(name='int32', element_type=<ElementType.Int: 'int'>, element_size=32, element_unit=None, signed=True, shape=Shape(dims=None)), 'is_list': False, 'is_ragged': False}, {'name': 'user_categories', 'tags': {<Tags.CATEGORICAL: 'categorical'>, <Tags.USER: 'user'>}, 'properties': {'embedding_sizes': {'cardinality': 780.0, 'dimension': 67.0}, 'freq_threshold': 0.0, 'max_size': 0.0, 'cat_path': '/model-data/aliccp/categories/categories/unique.user_categories.parquet', 'num_buckets': None, 'start_index': 0.0, 'domain': {'min': 0, 'max': 779, 'name': 'user_categories'}}, 'dtype': DType(name='int32', element_type=<ElementType.Int: 'int'>, element_size=32, element_unit=None, signed=True, shape=Shape(dims=None)), 'is_list': False, 'is_ragged': False}]"
            ],
            "text/html": [
              "<div>\n",
              "<style scoped>\n",
              "    .dataframe tbody tr th:only-of-type {\n",
              "        vertical-align: middle;\n",
              "    }\n",
              "\n",
              "    .dataframe tbody tr th {\n",
              "        vertical-align: top;\n",
              "    }\n",
              "\n",
              "    .dataframe thead th {\n",
              "        text-align: right;\n",
              "    }\n",
              "</style>\n",
              "<table border=\"1\" class=\"dataframe\">\n",
              "  <thead>\n",
              "    <tr style=\"text-align: right;\">\n",
              "      <th></th>\n",
              "      <th>name</th>\n",
              "      <th>tags</th>\n",
              "      <th>dtype</th>\n",
              "      <th>is_list</th>\n",
              "      <th>is_ragged</th>\n",
              "      <th>properties.embedding_sizes.cardinality</th>\n",
              "      <th>properties.embedding_sizes.dimension</th>\n",
              "      <th>properties.num_buckets</th>\n",
              "      <th>properties.freq_threshold</th>\n",
              "      <th>properties.start_index</th>\n",
              "      <th>properties.max_size</th>\n",
              "      <th>properties.cat_path</th>\n",
              "      <th>properties.domain.min</th>\n",
              "      <th>properties.domain.max</th>\n",
              "      <th>properties.domain.name</th>\n",
              "    </tr>\n",
              "  </thead>\n",
              "  <tbody>\n",
              "    <tr>\n",
              "      <th>0</th>\n",
              "      <td>user_id</td>\n",
              "      <td>(Tags.CATEGORICAL, Tags.ID, Tags.USER_ID, Tags...</td>\n",
              "      <td>DType(name='int32', element_type=&lt;ElementType....</td>\n",
              "      <td>False</td>\n",
              "      <td>False</td>\n",
              "      <td>780.0</td>\n",
              "      <td>67.0</td>\n",
              "      <td>None</td>\n",
              "      <td>0.0</td>\n",
              "      <td>0.0</td>\n",
              "      <td>0.0</td>\n",
              "      <td>/model-data/aliccp/categories/categories/uniqu...</td>\n",
              "      <td>0</td>\n",
              "      <td>779</td>\n",
              "      <td>user_id</td>\n",
              "    </tr>\n",
              "    <tr>\n",
              "      <th>1</th>\n",
              "      <td>item_id</td>\n",
              "      <td>(Tags.ITEM_ID, Tags.CATEGORICAL, Tags.ID, Tags...</td>\n",
              "      <td>DType(name='int32', element_type=&lt;ElementType....</td>\n",
              "      <td>False</td>\n",
              "      <td>False</td>\n",
              "      <td>756.0</td>\n",
              "      <td>65.0</td>\n",
              "      <td>None</td>\n",
              "      <td>0.0</td>\n",
              "      <td>0.0</td>\n",
              "      <td>0.0</td>\n",
              "      <td>/model-data/aliccp/categories/categories/uniqu...</td>\n",
              "      <td>0</td>\n",
              "      <td>755</td>\n",
              "      <td>item_id</td>\n",
              "    </tr>\n",
              "    <tr>\n",
              "      <th>2</th>\n",
              "      <td>item_category</td>\n",
              "      <td>(Tags.ITEM, Tags.CATEGORICAL)</td>\n",
              "      <td>DType(name='int32', element_type=&lt;ElementType....</td>\n",
              "      <td>False</td>\n",
              "      <td>False</td>\n",
              "      <td>756.0</td>\n",
              "      <td>65.0</td>\n",
              "      <td>None</td>\n",
              "      <td>0.0</td>\n",
              "      <td>0.0</td>\n",
              "      <td>0.0</td>\n",
              "      <td>/model-data/aliccp/categories/categories/uniqu...</td>\n",
              "      <td>0</td>\n",
              "      <td>755</td>\n",
              "      <td>item_category</td>\n",
              "    </tr>\n",
              "    <tr>\n",
              "      <th>3</th>\n",
              "      <td>item_shop</td>\n",
              "      <td>(Tags.ITEM, Tags.CATEGORICAL)</td>\n",
              "      <td>DType(name='int32', element_type=&lt;ElementType....</td>\n",
              "      <td>False</td>\n",
              "      <td>False</td>\n",
              "      <td>756.0</td>\n",
              "      <td>65.0</td>\n",
              "      <td>None</td>\n",
              "      <td>0.0</td>\n",
              "      <td>0.0</td>\n",
              "      <td>0.0</td>\n",
              "      <td>/model-data/aliccp/categories/categories/uniqu...</td>\n",
              "      <td>0</td>\n",
              "      <td>755</td>\n",
              "      <td>item_shop</td>\n",
              "    </tr>\n",
              "    <tr>\n",
              "      <th>4</th>\n",
              "      <td>item_brand</td>\n",
              "      <td>(Tags.ITEM, Tags.CATEGORICAL)</td>\n",
              "      <td>DType(name='int32', element_type=&lt;ElementType....</td>\n",
              "      <td>False</td>\n",
              "      <td>False</td>\n",
              "      <td>756.0</td>\n",
              "      <td>65.0</td>\n",
              "      <td>None</td>\n",
              "      <td>0.0</td>\n",
              "      <td>0.0</td>\n",
              "      <td>0.0</td>\n",
              "      <td>/model-data/aliccp/categories/categories/uniqu...</td>\n",
              "      <td>0</td>\n",
              "      <td>755</td>\n",
              "      <td>item_brand</td>\n",
              "    </tr>\n",
              "    <tr>\n",
              "      <th>5</th>\n",
              "      <td>user_shops</td>\n",
              "      <td>(Tags.CATEGORICAL, Tags.USER)</td>\n",
              "      <td>DType(name='int32', element_type=&lt;ElementType....</td>\n",
              "      <td>False</td>\n",
              "      <td>False</td>\n",
              "      <td>780.0</td>\n",
              "      <td>67.0</td>\n",
              "      <td>None</td>\n",
              "      <td>0.0</td>\n",
              "      <td>0.0</td>\n",
              "      <td>0.0</td>\n",
              "      <td>/model-data/aliccp/categories/categories/uniqu...</td>\n",
              "      <td>0</td>\n",
              "      <td>779</td>\n",
              "      <td>user_shops</td>\n",
              "    </tr>\n",
              "    <tr>\n",
              "      <th>6</th>\n",
              "      <td>user_profile</td>\n",
              "      <td>(Tags.CATEGORICAL, Tags.USER)</td>\n",
              "      <td>DType(name='int32', element_type=&lt;ElementType....</td>\n",
              "      <td>False</td>\n",
              "      <td>False</td>\n",
              "      <td>47.0</td>\n",
              "      <td>16.0</td>\n",
              "      <td>None</td>\n",
              "      <td>0.0</td>\n",
              "      <td>0.0</td>\n",
              "      <td>0.0</td>\n",
              "      <td>/model-data/aliccp/categories/categories/uniqu...</td>\n",
              "      <td>0</td>\n",
              "      <td>46</td>\n",
              "      <td>user_profile</td>\n",
              "    </tr>\n",
              "    <tr>\n",
              "      <th>7</th>\n",
              "      <td>user_group</td>\n",
              "      <td>(Tags.CATEGORICAL, Tags.USER)</td>\n",
              "      <td>DType(name='int32', element_type=&lt;ElementType....</td>\n",
              "      <td>False</td>\n",
              "      <td>False</td>\n",
              "      <td>11.0</td>\n",
              "      <td>16.0</td>\n",
              "      <td>None</td>\n",
              "      <td>0.0</td>\n",
              "      <td>0.0</td>\n",
              "      <td>0.0</td>\n",
              "      <td>/model-data/aliccp/categories/categories/uniqu...</td>\n",
              "      <td>0</td>\n",
              "      <td>10</td>\n",
              "      <td>user_group</td>\n",
              "    </tr>\n",
              "    <tr>\n",
              "      <th>8</th>\n",
              "      <td>user_gender</td>\n",
              "      <td>(Tags.CATEGORICAL, Tags.USER)</td>\n",
              "      <td>DType(name='int32', element_type=&lt;ElementType....</td>\n",
              "      <td>False</td>\n",
              "      <td>False</td>\n",
              "      <td>3.0</td>\n",
              "      <td>16.0</td>\n",
              "      <td>None</td>\n",
              "      <td>0.0</td>\n",
              "      <td>0.0</td>\n",
              "      <td>0.0</td>\n",
              "      <td>/model-data/aliccp/categories/categories/uniqu...</td>\n",
              "      <td>0</td>\n",
              "      <td>2</td>\n",
              "      <td>user_gender</td>\n",
              "    </tr>\n",
              "    <tr>\n",
              "      <th>9</th>\n",
              "      <td>user_age</td>\n",
              "      <td>(Tags.CATEGORICAL, Tags.USER)</td>\n",
              "      <td>DType(name='int32', element_type=&lt;ElementType....</td>\n",
              "      <td>False</td>\n",
              "      <td>False</td>\n",
              "      <td>7.0</td>\n",
              "      <td>16.0</td>\n",
              "      <td>None</td>\n",
              "      <td>0.0</td>\n",
              "      <td>0.0</td>\n",
              "      <td>0.0</td>\n",
              "      <td>/model-data/aliccp/categories/categories/uniqu...</td>\n",
              "      <td>0</td>\n",
              "      <td>6</td>\n",
              "      <td>user_age</td>\n",
              "    </tr>\n",
              "    <tr>\n",
              "      <th>10</th>\n",
              "      <td>user_consumption_2</td>\n",
              "      <td>(Tags.CATEGORICAL, Tags.USER)</td>\n",
              "      <td>DType(name='int32', element_type=&lt;ElementType....</td>\n",
              "      <td>False</td>\n",
              "      <td>False</td>\n",
              "      <td>4.0</td>\n",
              "      <td>16.0</td>\n",
              "      <td>None</td>\n",
              "      <td>0.0</td>\n",
              "      <td>0.0</td>\n",
              "      <td>0.0</td>\n",
              "      <td>/model-data/aliccp/categories/categories/uniqu...</td>\n",
              "      <td>0</td>\n",
              "      <td>3</td>\n",
              "      <td>user_consumption_2</td>\n",
              "    </tr>\n",
              "    <tr>\n",
              "      <th>11</th>\n",
              "      <td>user_is_occupied</td>\n",
              "      <td>(Tags.CATEGORICAL, Tags.USER)</td>\n",
              "      <td>DType(name='int32', element_type=&lt;ElementType....</td>\n",
              "      <td>False</td>\n",
              "      <td>False</td>\n",
              "      <td>3.0</td>\n",
              "      <td>16.0</td>\n",
              "      <td>None</td>\n",
              "      <td>0.0</td>\n",
              "      <td>0.0</td>\n",
              "      <td>0.0</td>\n",
              "      <td>/model-data/aliccp/categories/categories/uniqu...</td>\n",
              "      <td>0</td>\n",
              "      <td>2</td>\n",
              "      <td>user_is_occupied</td>\n",
              "    </tr>\n",
              "    <tr>\n",
              "      <th>12</th>\n",
              "      <td>user_geography</td>\n",
              "      <td>(Tags.CATEGORICAL, Tags.USER)</td>\n",
              "      <td>DType(name='int32', element_type=&lt;ElementType....</td>\n",
              "      <td>False</td>\n",
              "      <td>False</td>\n",
              "      <td>5.0</td>\n",
              "      <td>16.0</td>\n",
              "      <td>None</td>\n",
              "      <td>0.0</td>\n",
              "      <td>0.0</td>\n",
              "      <td>0.0</td>\n",
              "      <td>/model-data/aliccp/categories/categories/uniqu...</td>\n",
              "      <td>0</td>\n",
              "      <td>4</td>\n",
              "      <td>user_geography</td>\n",
              "    </tr>\n",
              "    <tr>\n",
              "      <th>13</th>\n",
              "      <td>user_intentions</td>\n",
              "      <td>(Tags.CATEGORICAL, Tags.USER)</td>\n",
              "      <td>DType(name='int32', element_type=&lt;ElementType....</td>\n",
              "      <td>False</td>\n",
              "      <td>False</td>\n",
              "      <td>780.0</td>\n",
              "      <td>67.0</td>\n",
              "      <td>None</td>\n",
              "      <td>0.0</td>\n",
              "      <td>0.0</td>\n",
              "      <td>0.0</td>\n",
              "      <td>/model-data/aliccp/categories/categories/uniqu...</td>\n",
              "      <td>0</td>\n",
              "      <td>779</td>\n",
              "      <td>user_intentions</td>\n",
              "    </tr>\n",
              "    <tr>\n",
              "      <th>14</th>\n",
              "      <td>user_brands</td>\n",
              "      <td>(Tags.CATEGORICAL, Tags.USER)</td>\n",
              "      <td>DType(name='int32', element_type=&lt;ElementType....</td>\n",
              "      <td>False</td>\n",
              "      <td>False</td>\n",
              "      <td>780.0</td>\n",
              "      <td>67.0</td>\n",
              "      <td>None</td>\n",
              "      <td>0.0</td>\n",
              "      <td>0.0</td>\n",
              "      <td>0.0</td>\n",
              "      <td>/model-data/aliccp/categories/categories/uniqu...</td>\n",
              "      <td>0</td>\n",
              "      <td>779</td>\n",
              "      <td>user_brands</td>\n",
              "    </tr>\n",
              "    <tr>\n",
              "      <th>15</th>\n",
              "      <td>user_categories</td>\n",
              "      <td>(Tags.CATEGORICAL, Tags.USER)</td>\n",
              "      <td>DType(name='int32', element_type=&lt;ElementType....</td>\n",
              "      <td>False</td>\n",
              "      <td>False</td>\n",
              "      <td>780.0</td>\n",
              "      <td>67.0</td>\n",
              "      <td>None</td>\n",
              "      <td>0.0</td>\n",
              "      <td>0.0</td>\n",
              "      <td>0.0</td>\n",
              "      <td>/model-data/aliccp/categories/categories/uniqu...</td>\n",
              "      <td>0</td>\n",
              "      <td>779</td>\n",
              "      <td>user_categories</td>\n",
              "    </tr>\n",
              "  </tbody>\n",
              "</table>\n",
              "</div>"
            ]
          },
          "metadata": {},
          "execution_count": 16
        }
      ]
    },
    {
      "cell_type": "markdown",
      "source": [
        "#### Designing Retrieval Model Architecture"
      ],
      "metadata": {
        "id": "yNVOT6N5qcjE"
      }
    },
    {
      "cell_type": "code",
      "source": [
        "# Function to create the two tower retrieval model\n",
        "\n",
        "def create_two_tower(tower_dim: int, encoder_dim: int, optimizer: str, k: int, tags) -> mm.TwoTowerModelV2:\n",
        "    # User/Query Tower\n",
        "    user_schema = schema.select_by_tag(tags.USER)\n",
        "    # create user (query) tower input block\n",
        "    user_inputs = mm.InputBlockV2(user_schema)\n",
        "    # create user (query) encoder block\n",
        "    query = mm.Encoder(\n",
        "        user_inputs,\n",
        "        mm.MLPBlock([encoder_dim, tower_dim], no_activation_last_layer=True)\n",
        "    )\n",
        "\n",
        "    # Item/Candidate Tower\n",
        "    item_schema = schema.select_by_tag(tags.ITEM)\n",
        "    # create item (candidate) tower input block\n",
        "    item_inputs = mm.InputBlockV2(item_schema)\n",
        "    # create item (candidate) encoder block\n",
        "    candidate = mm.Encoder(\n",
        "        item_inputs,\n",
        "        mm.MLPBlock([encoder_dim, tower_dim], no_activation_last_layer=True)\n",
        "    )\n",
        "    \n",
        "    # Build Model Class\n",
        "    model = mm.TwoTowerModelV2(query, candidate)\n",
        "    model.compile(\n",
        "        optimizer=optimizer,\n",
        "        run_eagerly=False,\n",
        "        loss=\"categorical_crossentropy\",\n",
        "        metrics=[mm.RecallAt(k), mm.NDCGAt(k)]\n",
        "    )\n",
        "    return model"
      ],
      "metadata": {
        "id": "oId748FHqUCQ"
      },
      "execution_count": 17,
      "outputs": []
    },
    {
      "cell_type": "code",
      "source": [
        "# Initialize model\n",
        "retrieval_model = create_two_tower(\n",
        "    tower_dim=64,\n",
        "    encoder_dim=128,\n",
        "    optimizer=\"adam\",\n",
        "    k=10,\n",
        "    tags=Tags\n",
        ")\n",
        "\n",
        "# Fit model\n",
        "retrieval_model.fit(train_retrieval, validation_data=valid_retrieval, batch_size=4096, epochs=2)"
      ],
      "metadata": {
        "colab": {
          "base_uri": "https://localhost:8080/"
        },
        "id": "fbRhgHiUq9t8",
        "outputId": "2bb8b820-b6da-4171-a305-cd81eab25e17"
      },
      "execution_count": 18,
      "outputs": [
        {
          "output_type": "stream",
          "name": "stdout",
          "text": [
            "Epoch 1/2\n",
            "86/86 [==============================] - 130s 1s/step - loss: 8.2961 - recall_at_10: 0.0260 - ndcg_at_10: 0.0239 - regularization_loss: 0.0000e+00 - loss_batch: 8.2890 - val_loss: 8.2935 - val_recall_at_10: 0.0300 - val_ndcg_at_10: 0.0299 - val_regularization_loss: 0.0000e+00 - val_loss_batch: 8.0110\n",
            "Epoch 2/2\n",
            "86/86 [==============================] - 116s 1s/step - loss: 8.2956 - recall_at_10: 0.0289 - ndcg_at_10: 0.0286 - regularization_loss: 0.0000e+00 - loss_batch: 8.2884 - val_loss: 8.2939 - val_recall_at_10: 0.0213 - val_ndcg_at_10: 0.0196 - val_regularization_loss: 0.0000e+00 - val_loss_batch: 8.0112\n"
          ]
        },
        {
          "output_type": "execute_result",
          "data": {
            "text/plain": [
              "<keras.callbacks.History at 0x7feaa023f7c0>"
            ]
          },
          "metadata": {},
          "execution_count": 18
        }
      ]
    },
    {
      "cell_type": "markdown",
      "source": [
        "#### Evaluate the model accuracy"
      ],
      "metadata": {
        "id": "J-PQnl0Xrtzi"
      }
    },
    {
      "cell_type": "code",
      "source": [
        "# Create candidate/item features for evaluation\n",
        "candidate_features = unique_rows_by_features(train_retrieval, Tags.ITEM, Tags.ITEM_ID)\n",
        "\n",
        "# Here's a sneek peek of the item features data\n",
        "candidate_features.head()"
      ],
      "metadata": {
        "colab": {
          "base_uri": "https://localhost:8080/",
          "height": 206
        },
        "id": "ZHoDsanrrCXL",
        "outputId": "593f8d51-1198-4f73-f599-adb5ea9b1845"
      },
      "execution_count": 19,
      "outputs": [
        {
          "output_type": "execute_result",
          "data": {
            "text/plain": [
              "   item_id  item_category  item_shop  item_brand\n",
              "0       11             11         11          11\n",
              "1        1              1          1           1\n",
              "2       15             15         15          15\n",
              "3        9              9          9           9\n",
              "4       29             29         29          29"
            ],
            "text/html": [
              "\n",
              "  <div id=\"df-19e877ec-04a4-4d45-bdc2-107e51f596ff\">\n",
              "    <div class=\"colab-df-container\">\n",
              "      <div>\n",
              "<style scoped>\n",
              "    .dataframe tbody tr th:only-of-type {\n",
              "        vertical-align: middle;\n",
              "    }\n",
              "\n",
              "    .dataframe tbody tr th {\n",
              "        vertical-align: top;\n",
              "    }\n",
              "\n",
              "    .dataframe thead th {\n",
              "        text-align: right;\n",
              "    }\n",
              "</style>\n",
              "<table border=\"1\" class=\"dataframe\">\n",
              "  <thead>\n",
              "    <tr style=\"text-align: right;\">\n",
              "      <th></th>\n",
              "      <th>item_id</th>\n",
              "      <th>item_category</th>\n",
              "      <th>item_shop</th>\n",
              "      <th>item_brand</th>\n",
              "    </tr>\n",
              "  </thead>\n",
              "  <tbody>\n",
              "    <tr>\n",
              "      <th>0</th>\n",
              "      <td>11</td>\n",
              "      <td>11</td>\n",
              "      <td>11</td>\n",
              "      <td>11</td>\n",
              "    </tr>\n",
              "    <tr>\n",
              "      <th>1</th>\n",
              "      <td>1</td>\n",
              "      <td>1</td>\n",
              "      <td>1</td>\n",
              "      <td>1</td>\n",
              "    </tr>\n",
              "    <tr>\n",
              "      <th>2</th>\n",
              "      <td>15</td>\n",
              "      <td>15</td>\n",
              "      <td>15</td>\n",
              "      <td>15</td>\n",
              "    </tr>\n",
              "    <tr>\n",
              "      <th>3</th>\n",
              "      <td>9</td>\n",
              "      <td>9</td>\n",
              "      <td>9</td>\n",
              "      <td>9</td>\n",
              "    </tr>\n",
              "    <tr>\n",
              "      <th>4</th>\n",
              "      <td>29</td>\n",
              "      <td>29</td>\n",
              "      <td>29</td>\n",
              "      <td>29</td>\n",
              "    </tr>\n",
              "  </tbody>\n",
              "</table>\n",
              "</div>\n",
              "      <button class=\"colab-df-convert\" onclick=\"convertToInteractive('df-19e877ec-04a4-4d45-bdc2-107e51f596ff')\"\n",
              "              title=\"Convert this dataframe to an interactive table.\"\n",
              "              style=\"display:none;\">\n",
              "        \n",
              "  <svg xmlns=\"http://www.w3.org/2000/svg\" height=\"24px\"viewBox=\"0 0 24 24\"\n",
              "       width=\"24px\">\n",
              "    <path d=\"M0 0h24v24H0V0z\" fill=\"none\"/>\n",
              "    <path d=\"M18.56 5.44l.94 2.06.94-2.06 2.06-.94-2.06-.94-.94-2.06-.94 2.06-2.06.94zm-11 1L8.5 8.5l.94-2.06 2.06-.94-2.06-.94L8.5 2.5l-.94 2.06-2.06.94zm10 10l.94 2.06.94-2.06 2.06-.94-2.06-.94-.94-2.06-.94 2.06-2.06.94z\"/><path d=\"M17.41 7.96l-1.37-1.37c-.4-.4-.92-.59-1.43-.59-.52 0-1.04.2-1.43.59L10.3 9.45l-7.72 7.72c-.78.78-.78 2.05 0 2.83L4 21.41c.39.39.9.59 1.41.59.51 0 1.02-.2 1.41-.59l7.78-7.78 2.81-2.81c.8-.78.8-2.07 0-2.86zM5.41 20L4 18.59l7.72-7.72 1.47 1.35L5.41 20z\"/>\n",
              "  </svg>\n",
              "      </button>\n",
              "      \n",
              "  <style>\n",
              "    .colab-df-container {\n",
              "      display:flex;\n",
              "      flex-wrap:wrap;\n",
              "      gap: 12px;\n",
              "    }\n",
              "\n",
              "    .colab-df-convert {\n",
              "      background-color: #E8F0FE;\n",
              "      border: none;\n",
              "      border-radius: 50%;\n",
              "      cursor: pointer;\n",
              "      display: none;\n",
              "      fill: #1967D2;\n",
              "      height: 32px;\n",
              "      padding: 0 0 0 0;\n",
              "      width: 32px;\n",
              "    }\n",
              "\n",
              "    .colab-df-convert:hover {\n",
              "      background-color: #E2EBFA;\n",
              "      box-shadow: 0px 1px 2px rgba(60, 64, 67, 0.3), 0px 1px 3px 1px rgba(60, 64, 67, 0.15);\n",
              "      fill: #174EA6;\n",
              "    }\n",
              "\n",
              "    [theme=dark] .colab-df-convert {\n",
              "      background-color: #3B4455;\n",
              "      fill: #D2E3FC;\n",
              "    }\n",
              "\n",
              "    [theme=dark] .colab-df-convert:hover {\n",
              "      background-color: #434B5C;\n",
              "      box-shadow: 0px 1px 3px 1px rgba(0, 0, 0, 0.15);\n",
              "      filter: drop-shadow(0px 1px 2px rgba(0, 0, 0, 0.3));\n",
              "      fill: #FFFFFF;\n",
              "    }\n",
              "  </style>\n",
              "\n",
              "      <script>\n",
              "        const buttonEl =\n",
              "          document.querySelector('#df-19e877ec-04a4-4d45-bdc2-107e51f596ff button.colab-df-convert');\n",
              "        buttonEl.style.display =\n",
              "          google.colab.kernel.accessAllowed ? 'block' : 'none';\n",
              "\n",
              "        async function convertToInteractive(key) {\n",
              "          const element = document.querySelector('#df-19e877ec-04a4-4d45-bdc2-107e51f596ff');\n",
              "          const dataTable =\n",
              "            await google.colab.kernel.invokeFunction('convertToInteractive',\n",
              "                                                     [key], {});\n",
              "          if (!dataTable) return;\n",
              "\n",
              "          const docLinkHtml = 'Like what you see? Visit the ' +\n",
              "            '<a target=\"_blank\" href=https://colab.research.google.com/notebooks/data_table.ipynb>data table notebook</a>'\n",
              "            + ' to learn more about interactive tables.';\n",
              "          element.innerHTML = '';\n",
              "          dataTable['output_type'] = 'display_data';\n",
              "          await google.colab.output.renderOutput(dataTable, element);\n",
              "          const docLink = document.createElement('div');\n",
              "          docLink.innerHTML = docLinkHtml;\n",
              "          element.appendChild(docLink);\n",
              "        }\n",
              "      </script>\n",
              "    </div>\n",
              "  </div>\n",
              "  "
            ]
          },
          "metadata": {},
          "execution_count": 19
        }
      ]
    },
    {
      "cell_type": "code",
      "source": [
        "# Convert model to a top_k_encoder\n",
        "topk_model = retrieval_model.to_top_k_encoder(candidate_features, k=20, batch_size=128)\n",
        "topk_model.compile(run_eagerly=False)"
      ],
      "metadata": {
        "id": "CKqlzUv1sGNA"
      },
      "execution_count": 20,
      "outputs": []
    },
    {
      "cell_type": "code",
      "source": [
        "# Create data loader for validation data\n",
        "eval_loader = mm.Loader(valid_retrieval, batch_size=1024).map(mm.ToTarget(schema, \"item_id\"))\n",
        "\n",
        "# Evaluation\n",
        "metrics = topk_model.evaluate(eval_loader, return_dict=True)\n",
        "metrics"
      ],
      "metadata": {
        "colab": {
          "base_uri": "https://localhost:8080/"
        },
        "id": "BYTkQD3cr5-s",
        "outputId": "543d2e03-7d30-456d-be7f-e75e1990820f"
      },
      "execution_count": 21,
      "outputs": [
        {
          "output_type": "stream",
          "name": "stdout",
          "text": [
            "147/147 [==============================] - 8s 32ms/step - loss: 0.4076 - recall_at_10: 0.0843 - mrr_at_10: 0.0330 - ndcg_at_10: 0.0450 - map_at_10: 0.0330 - precision_at_10: 0.0084 - regularization_loss: 0.0000e+00 - loss_batch: 0.4078\n"
          ]
        },
        {
          "output_type": "execute_result",
          "data": {
            "text/plain": [
              "{'loss': 0.4076088070869446,\n",
              " 'recall_at_10': 0.08425066620111465,\n",
              " 'mrr_at_10': 0.03302222117781639,\n",
              " 'ndcg_at_10': 0.04498661309480667,\n",
              " 'map_at_10': 0.03302222117781639,\n",
              " 'precision_at_10': 0.008425066247582436,\n",
              " 'regularization_loss': 0.0,\n",
              " 'loss_batch': 0.4356307089328766}"
            ]
          },
          "metadata": {},
          "execution_count": 21
        }
      ]
    },
    {
      "cell_type": "markdown",
      "source": [
        "#### Generate top-K candidates"
      ],
      "metadata": {
        "id": "kwa9Y3r2sOwa"
      }
    },
    {
      "cell_type": "code",
      "source": [
        "# Create query/user features for evaluation\n",
        "user_features = unique_rows_by_features(valid_retrieval, Tags.USER, Tags.USER_ID)\n",
        "user_features.head()"
      ],
      "metadata": {
        "colab": {
          "base_uri": "https://localhost:8080/",
          "height": 270
        },
        "id": "oGclT4sYsL4E",
        "outputId": "2b85fa8f-e7f5-4eda-f067-80cf178d33a1"
      },
      "execution_count": 22,
      "outputs": [
        {
          "output_type": "execute_result",
          "data": {
            "text/plain": [
              "   user_id  user_shops  user_profile  user_group  user_gender  user_age  \\\n",
              "0        9           9             1           1            1         1   \n",
              "1       13          13             1           1            1         1   \n",
              "2       51          51             2           1            1         1   \n",
              "3       22          22             1           1            1         1   \n",
              "4        4           4             1           1            1         1   \n",
              "\n",
              "   user_consumption_2  user_is_occupied  user_geography  user_intentions  \\\n",
              "0                   1                 1               1                9   \n",
              "1                   1                 1               1               13   \n",
              "2                   1                 1               1               51   \n",
              "3                   1                 1               1               22   \n",
              "4                   1                 1               1                4   \n",
              "\n",
              "   user_brands  user_categories  \n",
              "0            9                9  \n",
              "1           13               13  \n",
              "2           51               51  \n",
              "3           22               22  \n",
              "4            4                4  "
            ],
            "text/html": [
              "\n",
              "  <div id=\"df-4a72ee0d-51ac-4ba0-ad7a-6b08f991296b\">\n",
              "    <div class=\"colab-df-container\">\n",
              "      <div>\n",
              "<style scoped>\n",
              "    .dataframe tbody tr th:only-of-type {\n",
              "        vertical-align: middle;\n",
              "    }\n",
              "\n",
              "    .dataframe tbody tr th {\n",
              "        vertical-align: top;\n",
              "    }\n",
              "\n",
              "    .dataframe thead th {\n",
              "        text-align: right;\n",
              "    }\n",
              "</style>\n",
              "<table border=\"1\" class=\"dataframe\">\n",
              "  <thead>\n",
              "    <tr style=\"text-align: right;\">\n",
              "      <th></th>\n",
              "      <th>user_id</th>\n",
              "      <th>user_shops</th>\n",
              "      <th>user_profile</th>\n",
              "      <th>user_group</th>\n",
              "      <th>user_gender</th>\n",
              "      <th>user_age</th>\n",
              "      <th>user_consumption_2</th>\n",
              "      <th>user_is_occupied</th>\n",
              "      <th>user_geography</th>\n",
              "      <th>user_intentions</th>\n",
              "      <th>user_brands</th>\n",
              "      <th>user_categories</th>\n",
              "    </tr>\n",
              "  </thead>\n",
              "  <tbody>\n",
              "    <tr>\n",
              "      <th>0</th>\n",
              "      <td>9</td>\n",
              "      <td>9</td>\n",
              "      <td>1</td>\n",
              "      <td>1</td>\n",
              "      <td>1</td>\n",
              "      <td>1</td>\n",
              "      <td>1</td>\n",
              "      <td>1</td>\n",
              "      <td>1</td>\n",
              "      <td>9</td>\n",
              "      <td>9</td>\n",
              "      <td>9</td>\n",
              "    </tr>\n",
              "    <tr>\n",
              "      <th>1</th>\n",
              "      <td>13</td>\n",
              "      <td>13</td>\n",
              "      <td>1</td>\n",
              "      <td>1</td>\n",
              "      <td>1</td>\n",
              "      <td>1</td>\n",
              "      <td>1</td>\n",
              "      <td>1</td>\n",
              "      <td>1</td>\n",
              "      <td>13</td>\n",
              "      <td>13</td>\n",
              "      <td>13</td>\n",
              "    </tr>\n",
              "    <tr>\n",
              "      <th>2</th>\n",
              "      <td>51</td>\n",
              "      <td>51</td>\n",
              "      <td>2</td>\n",
              "      <td>1</td>\n",
              "      <td>1</td>\n",
              "      <td>1</td>\n",
              "      <td>1</td>\n",
              "      <td>1</td>\n",
              "      <td>1</td>\n",
              "      <td>51</td>\n",
              "      <td>51</td>\n",
              "      <td>51</td>\n",
              "    </tr>\n",
              "    <tr>\n",
              "      <th>3</th>\n",
              "      <td>22</td>\n",
              "      <td>22</td>\n",
              "      <td>1</td>\n",
              "      <td>1</td>\n",
              "      <td>1</td>\n",
              "      <td>1</td>\n",
              "      <td>1</td>\n",
              "      <td>1</td>\n",
              "      <td>1</td>\n",
              "      <td>22</td>\n",
              "      <td>22</td>\n",
              "      <td>22</td>\n",
              "    </tr>\n",
              "    <tr>\n",
              "      <th>4</th>\n",
              "      <td>4</td>\n",
              "      <td>4</td>\n",
              "      <td>1</td>\n",
              "      <td>1</td>\n",
              "      <td>1</td>\n",
              "      <td>1</td>\n",
              "      <td>1</td>\n",
              "      <td>1</td>\n",
              "      <td>1</td>\n",
              "      <td>4</td>\n",
              "      <td>4</td>\n",
              "      <td>4</td>\n",
              "    </tr>\n",
              "  </tbody>\n",
              "</table>\n",
              "</div>\n",
              "      <button class=\"colab-df-convert\" onclick=\"convertToInteractive('df-4a72ee0d-51ac-4ba0-ad7a-6b08f991296b')\"\n",
              "              title=\"Convert this dataframe to an interactive table.\"\n",
              "              style=\"display:none;\">\n",
              "        \n",
              "  <svg xmlns=\"http://www.w3.org/2000/svg\" height=\"24px\"viewBox=\"0 0 24 24\"\n",
              "       width=\"24px\">\n",
              "    <path d=\"M0 0h24v24H0V0z\" fill=\"none\"/>\n",
              "    <path d=\"M18.56 5.44l.94 2.06.94-2.06 2.06-.94-2.06-.94-.94-2.06-.94 2.06-2.06.94zm-11 1L8.5 8.5l.94-2.06 2.06-.94-2.06-.94L8.5 2.5l-.94 2.06-2.06.94zm10 10l.94 2.06.94-2.06 2.06-.94-2.06-.94-.94-2.06-.94 2.06-2.06.94z\"/><path d=\"M17.41 7.96l-1.37-1.37c-.4-.4-.92-.59-1.43-.59-.52 0-1.04.2-1.43.59L10.3 9.45l-7.72 7.72c-.78.78-.78 2.05 0 2.83L4 21.41c.39.39.9.59 1.41.59.51 0 1.02-.2 1.41-.59l7.78-7.78 2.81-2.81c.8-.78.8-2.07 0-2.86zM5.41 20L4 18.59l7.72-7.72 1.47 1.35L5.41 20z\"/>\n",
              "  </svg>\n",
              "      </button>\n",
              "      \n",
              "  <style>\n",
              "    .colab-df-container {\n",
              "      display:flex;\n",
              "      flex-wrap:wrap;\n",
              "      gap: 12px;\n",
              "    }\n",
              "\n",
              "    .colab-df-convert {\n",
              "      background-color: #E8F0FE;\n",
              "      border: none;\n",
              "      border-radius: 50%;\n",
              "      cursor: pointer;\n",
              "      display: none;\n",
              "      fill: #1967D2;\n",
              "      height: 32px;\n",
              "      padding: 0 0 0 0;\n",
              "      width: 32px;\n",
              "    }\n",
              "\n",
              "    .colab-df-convert:hover {\n",
              "      background-color: #E2EBFA;\n",
              "      box-shadow: 0px 1px 2px rgba(60, 64, 67, 0.3), 0px 1px 3px 1px rgba(60, 64, 67, 0.15);\n",
              "      fill: #174EA6;\n",
              "    }\n",
              "\n",
              "    [theme=dark] .colab-df-convert {\n",
              "      background-color: #3B4455;\n",
              "      fill: #D2E3FC;\n",
              "    }\n",
              "\n",
              "    [theme=dark] .colab-df-convert:hover {\n",
              "      background-color: #434B5C;\n",
              "      box-shadow: 0px 1px 3px 1px rgba(0, 0, 0, 0.15);\n",
              "      filter: drop-shadow(0px 1px 2px rgba(0, 0, 0, 0.3));\n",
              "      fill: #FFFFFF;\n",
              "    }\n",
              "  </style>\n",
              "\n",
              "      <script>\n",
              "        const buttonEl =\n",
              "          document.querySelector('#df-4a72ee0d-51ac-4ba0-ad7a-6b08f991296b button.colab-df-convert');\n",
              "        buttonEl.style.display =\n",
              "          google.colab.kernel.accessAllowed ? 'block' : 'none';\n",
              "\n",
              "        async function convertToInteractive(key) {\n",
              "          const element = document.querySelector('#df-4a72ee0d-51ac-4ba0-ad7a-6b08f991296b');\n",
              "          const dataTable =\n",
              "            await google.colab.kernel.invokeFunction('convertToInteractive',\n",
              "                                                     [key], {});\n",
              "          if (!dataTable) return;\n",
              "\n",
              "          const docLinkHtml = 'Like what you see? Visit the ' +\n",
              "            '<a target=\"_blank\" href=https://colab.research.google.com/notebooks/data_table.ipynb>data table notebook</a>'\n",
              "            + ' to learn more about interactive tables.';\n",
              "          element.innerHTML = '';\n",
              "          dataTable['output_type'] = 'display_data';\n",
              "          await google.colab.output.renderOutput(dataTable, element);\n",
              "          const docLink = document.createElement('div');\n",
              "          docLink.innerHTML = docLinkHtml;\n",
              "          element.appendChild(docLink);\n",
              "        }\n",
              "      </script>\n",
              "    </div>\n",
              "  </div>\n",
              "  "
            ]
          },
          "metadata": {},
          "execution_count": 22
        }
      ]
    },
    {
      "cell_type": "code",
      "source": [
        "# Check out one batch of 8 Users\n",
        "loader = mm.Loader(user_features, batch_size=8, shuffle=False)\n",
        "batch = next(iter(loader))\n",
        "print(batch[0]['user_id'])"
      ],
      "metadata": {
        "colab": {
          "base_uri": "https://localhost:8080/"
        },
        "id": "reTKbcg8sQfi",
        "outputId": "b2eba7b4-222e-46bc-d69e-5c6e873f462d"
      },
      "execution_count": 23,
      "outputs": [
        {
          "output_type": "stream",
          "name": "stdout",
          "text": [
            "tf.Tensor(\n",
            "[[ 9]\n",
            " [13]\n",
            " [51]\n",
            " [22]\n",
            " [ 4]\n",
            " [74]\n",
            " [47]\n",
            " [14]], shape=(8, 1), dtype=int32)\n"
          ]
        }
      ]
    },
    {
      "cell_type": "code",
      "source": [
        "scores, reccommended_item_ids = topk_model(batch[0])"
      ],
      "metadata": {
        "id": "xPiIirYVsW7h"
      },
      "execution_count": 24,
      "outputs": []
    },
    {
      "cell_type": "code",
      "source": [
        "# Recommended Items for the batch of 8 Users\n",
        "reccommended_item_ids"
      ],
      "metadata": {
        "colab": {
          "base_uri": "https://localhost:8080/"
        },
        "id": "YVPHR5oNsejo",
        "outputId": "bb9eed50-add2-425f-c024-ce5aadda32e2"
      },
      "execution_count": 25,
      "outputs": [
        {
          "output_type": "execute_result",
          "data": {
            "text/plain": [
              "<tf.Tensor: shape=(8, 20), dtype=int32, numpy=\n",
              "array([[ 16,  47,  83,  31,   7,  18,  80, 754, 376, 180, 140,  35,  72,\n",
              "        385, 344, 483,   6, 217,  34, 201],\n",
              "       [ 30,  42,   7, 234,  36, 353, 367, 687,  18, 359, 351,  69,   5,\n",
              "        427, 392, 105, 343,   6, 445, 337],\n",
              "       [ 10,  16, 180, 137, 261, 285, 186, 218, 174, 286,  34, 385, 324,\n",
              "        366, 182,  62,   4, 275, 338, 193],\n",
              "       [116,   2,  22, 302, 468,   3,  17, 370, 216, 357, 178, 259, 236,\n",
              "        153, 515, 305, 168,  25,  87,  58],\n",
              "       [ 16,  10, 445,  47,   7, 261, 391, 483, 217, 496, 180, 428, 134,\n",
              "        104, 323,  80, 498, 329,  14,  45],\n",
              "       [216,  22, 112, 168, 116, 219,  23, 251,  25,  32,  24, 399, 739,\n",
              "        289,  17, 114,  43, 295, 117, 166],\n",
              "       [ 32,   4, 739,  51,  15,   9, 199, 216, 302, 347, 336,  30,  84,\n",
              "         27, 246, 327, 628, 123,  70, 517],\n",
              "       [ 18,  30,   4, 359, 344,  34, 286, 234, 161, 385, 201, 552,   6,\n",
              "        376, 256,   3, 673,  73, 628, 586]], dtype=int32)>"
            ]
          },
          "metadata": {},
          "execution_count": 25
        }
      ]
    },
    {
      "cell_type": "code",
      "source": [
        "# Recommendation \"scores\" (higher is better) for each recommended item for the batch of 8 Users\n",
        "scores"
      ],
      "metadata": {
        "colab": {
          "base_uri": "https://localhost:8080/"
        },
        "id": "Ml1WF-uksg9Y",
        "outputId": "deafb494-37a2-4216-9b8a-a849d9728c8d"
      },
      "execution_count": 26,
      "outputs": [
        {
          "output_type": "execute_result",
          "data": {
            "text/plain": [
              "<tf.Tensor: shape=(8, 20), dtype=float32, numpy=\n",
              "array([[0.02237884, 0.01794879, 0.0142032 , 0.0141079 , 0.01247173,\n",
              "        0.01175879, 0.00937201, 0.0091588 , 0.00894753, 0.00754664,\n",
              "        0.00592429, 0.00535357, 0.00524596, 0.00498738, 0.00455313,\n",
              "        0.00451372, 0.00422954, 0.00191583, 0.00171764, 0.00161741],\n",
              "       [0.05091146, 0.02425309, 0.02207669, 0.01910865, 0.01834677,\n",
              "        0.01747436, 0.01416761, 0.01329941, 0.0125213 , 0.01102724,\n",
              "        0.00879338, 0.00871183, 0.00794389, 0.00545314, 0.0053711 ,\n",
              "        0.00441133, 0.0035553 , 0.00214313, 0.00174285, 0.00166852],\n",
              "       [0.06806048, 0.06215564, 0.05406964, 0.05040586, 0.04563279,\n",
              "        0.04525307, 0.04105154, 0.03984092, 0.03962542, 0.0393935 ,\n",
              "        0.03781381, 0.03731435, 0.03505041, 0.03426677, 0.03385994,\n",
              "        0.0331247 , 0.03239864, 0.03140127, 0.03095391, 0.03073781],\n",
              "       [0.03377665, 0.03072289, 0.02960858, 0.02510477, 0.02425186,\n",
              "        0.022434  , 0.02121826, 0.02066939, 0.02032492, 0.01929124,\n",
              "        0.01902029, 0.01875773, 0.0178737 , 0.01719566, 0.01676901,\n",
              "        0.01670215, 0.01650452, 0.01630115, 0.01567431, 0.01543692],\n",
              "       [0.04934869, 0.0467054 , 0.04405225, 0.04270286, 0.04263907,\n",
              "        0.03872981, 0.03867704, 0.03643803, 0.03575341, 0.03229089,\n",
              "        0.03090978, 0.03060839, 0.03033826, 0.02958357, 0.02851534,\n",
              "        0.02821163, 0.02734168, 0.02641063, 0.0236554 , 0.02248615],\n",
              "       [0.07132115, 0.06835091, 0.06238999, 0.05309844, 0.0514362 ,\n",
              "        0.04746186, 0.04321531, 0.04317922, 0.04313875, 0.04307891,\n",
              "        0.03995792, 0.03635718, 0.03476711, 0.033438  , 0.0332748 ,\n",
              "        0.0330239 , 0.0327705 , 0.03276126, 0.03253128, 0.03210508],\n",
              "       [0.0437744 , 0.04220176, 0.03919884, 0.03704881, 0.03478457,\n",
              "        0.03169851, 0.03033951, 0.02869621, 0.02808752, 0.02790918,\n",
              "        0.02526837, 0.02376468, 0.02373416, 0.02242001, 0.01945492,\n",
              "        0.0190111 , 0.01806273, 0.01799299, 0.01655231, 0.01584906],\n",
              "       [0.04915078, 0.03210504, 0.02203783, 0.02168211, 0.0172522 ,\n",
              "        0.01362529, 0.00991484, 0.00967532, 0.00931427, 0.00886889,\n",
              "        0.00794034, 0.00693909, 0.00680314, 0.0060939 , 0.00524136,\n",
              "        0.00420662, 0.00377606, 0.00239704, 0.00208362, 0.00139823]],\n",
              "      dtype=float32)>"
            ]
          },
          "metadata": {},
          "execution_count": 26
        }
      ]
    },
    {
      "cell_type": "markdown",
      "source": [
        "### Ranking Model"
      ],
      "metadata": {
        "id": "fuLP7pl5so-A"
      }
    },
    {
      "cell_type": "code",
      "source": [],
      "metadata": {
        "id": "PKouq7XCsk_H"
      },
      "execution_count": null,
      "outputs": []
    }
  ]
}