{
 "cells": [
  {
   "cell_type": "markdown",
   "id": "conceptual-representative",
   "metadata": {},
   "source": [
    "### Import libraries"
   ]
  },
  {
   "cell_type": "code",
   "execution_count": null,
   "id": "moved-moment",
   "metadata": {},
   "outputs": [],
   "source": [
    "import os\n",
    "import logging\n",
    "import time\n",
    "import warnings\n",
    "warnings.filterwarnings('ignore')\n",
    "\n",
    "import nvtabular as nvt\n",
    "import merlin.models.tf as mm\n",
    "import tensorflow as tf\n",
    "\n",
    "from nvtabular.ops import *\n",
    "\n",
    "from merlin.datasets.synthetic import generate_data\n",
    "from merlin.datasets.ecommerce import transform_aliccp\n",
    "from merlin.models.utils.example_utils import workflow_fit_transform\n",
    "from merlin.models.utils.dataset import unique_rows_by_features\n",
    "from merlin.schema.tags import Tags\n",
    "from merlin.io.dataset import Dataset\n",
    "\n",
    "\n",
    "# disable INFO and DEBUG logging everywhere\n",
    "logging.disable(logging.WARNING)"
   ]
  },
  {
   "cell_type": "markdown",
   "id": "quiet-newfoundland",
   "metadata": {},
   "source": [
    "### Generate and Process Synthetic Ali-CCP Dataset"
   ]
  },
  {
   "cell_type": "code",
   "execution_count": null,
   "id": "forbidden-climate",
   "metadata": {},
   "outputs": [],
   "source": [
    "NUM_ROWS = 1000000\n",
    "TRAIN_SIZE = 0.7\n",
    "VALID_SIZE = 0.3\n",
    "\n",
    "train, valid = generate_data(\"aliccp-raw\", NUM_ROWS, set_sizes=(TRAIN_SIZE, VALID_SIZE))"
   ]
  },
  {
   "cell_type": "code",
   "execution_count": null,
   "id": "instructional-thursday",
   "metadata": {},
   "outputs": [],
   "source": [
    "DATA_DIR = \"/model-data/aliccp\"\n",
    "OUTPUT_DATA_DIR = os.path.join(DATA_DIR, \"processed\")\n",
    "OUTPUT_RETRIEVAL_DATA_DIR = os.path.join(OUTPUT_DATA_DIR, \"retrieval\")\n",
    "CATEGORY_TEMP_DIR = os.path.join(DATA_DIR, \"categories\")"
   ]
  }
 ],
 "metadata": {
  "kernelspec": {
   "display_name": "Python [conda env:tf3] *",
   "language": "python",
   "name": "conda-env-tf3-py"
  },
  "language_info": {
   "codemirror_mode": {
    "name": "ipython",
    "version": 3
   },
   "file_extension": ".py",
   "mimetype": "text/x-python",
   "name": "python",
   "nbconvert_exporter": "python",
   "pygments_lexer": "ipython3",
   "version": "3.8.8"
  }
 },
 "nbformat": 4,
 "nbformat_minor": 5
}
